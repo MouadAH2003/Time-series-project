{
 "cells": [
  {
   "cell_type": "markdown",
   "metadata": {},
   "source": [
    "# Stock Price Prediction of Microsoft"
   ]
  },
  {
   "cell_type": "code",
   "execution_count": 1,
   "metadata": {},
   "outputs": [],
   "source": [
    "import pandas as pd\n",
    "import numpy as np\n",
    "%matplotlib inline\n",
    "import matplotlib.pyplot as plt\n",
    "import matplotlib\n",
    "from sklearn.preprocessing import MinMaxScaler\n",
    "from keras.layers import LSTM,Dense,Dropout\n",
    "from sklearn.model_selection import TimeSeriesSplit\n",
    "from sklearn.metrics import mean_squared_error, r2_score\n",
    "import matplotlib.dates as mdates\n",
    "from sklearn import linear_model\n"
   ]
  },
  {
   "cell_type": "markdown",
   "metadata": {},
   "source": [
    "# Reading data using parse date\n",
    "As it is timeseries data so we have to read the data by parsing date means making data column as index."
   ]
  },
  {
   "cell_type": "code",
   "execution_count": 2,
   "metadata": {},
   "outputs": [],
   "source": [
    "\n",
    "df_final = pd.read_csv(\"MSFT.csv\",na_values=['null'],index_col='Date',parse_dates=True,infer_datetime_format=True)"
   ]
  },
  {
   "cell_type": "code",
   "execution_count": 3,
   "metadata": {},
   "outputs": [
    {
     "data": {
      "text/html": [
       "<div>\n",
       "<style scoped>\n",
       "    .dataframe tbody tr th:only-of-type {\n",
       "        vertical-align: middle;\n",
       "    }\n",
       "\n",
       "    .dataframe tbody tr th {\n",
       "        vertical-align: top;\n",
       "    }\n",
       "\n",
       "    .dataframe thead th {\n",
       "        text-align: right;\n",
       "    }\n",
       "</style>\n",
       "<table border=\"1\" class=\"dataframe\">\n",
       "  <thead>\n",
       "    <tr style=\"text-align: right;\">\n",
       "      <th></th>\n",
       "      <th>Open</th>\n",
       "      <th>High</th>\n",
       "      <th>Low</th>\n",
       "      <th>Close</th>\n",
       "      <th>Adj_Close</th>\n",
       "      <th>Volume</th>\n",
       "    </tr>\n",
       "    <tr>\n",
       "      <th>Date</th>\n",
       "      <th></th>\n",
       "      <th></th>\n",
       "      <th></th>\n",
       "      <th></th>\n",
       "      <th></th>\n",
       "      <th></th>\n",
       "    </tr>\n",
       "  </thead>\n",
       "  <tbody>\n",
       "    <tr>\n",
       "      <th>2017-01-03</th>\n",
       "      <td>62.790001</td>\n",
       "      <td>62.840000</td>\n",
       "      <td>62.130001</td>\n",
       "      <td>62.580002</td>\n",
       "      <td>57.807823</td>\n",
       "      <td>20694100</td>\n",
       "    </tr>\n",
       "    <tr>\n",
       "      <th>2017-01-04</th>\n",
       "      <td>62.480000</td>\n",
       "      <td>62.750000</td>\n",
       "      <td>62.119999</td>\n",
       "      <td>62.299999</td>\n",
       "      <td>57.549179</td>\n",
       "      <td>21340000</td>\n",
       "    </tr>\n",
       "    <tr>\n",
       "      <th>2017-01-05</th>\n",
       "      <td>62.189999</td>\n",
       "      <td>62.660000</td>\n",
       "      <td>62.029999</td>\n",
       "      <td>62.299999</td>\n",
       "      <td>57.549179</td>\n",
       "      <td>24876000</td>\n",
       "    </tr>\n",
       "    <tr>\n",
       "      <th>2017-01-06</th>\n",
       "      <td>62.299999</td>\n",
       "      <td>63.150002</td>\n",
       "      <td>62.040001</td>\n",
       "      <td>62.840000</td>\n",
       "      <td>58.047993</td>\n",
       "      <td>19922900</td>\n",
       "    </tr>\n",
       "    <tr>\n",
       "      <th>2017-01-09</th>\n",
       "      <td>62.759998</td>\n",
       "      <td>63.080002</td>\n",
       "      <td>62.540001</td>\n",
       "      <td>62.639999</td>\n",
       "      <td>57.863243</td>\n",
       "      <td>20382700</td>\n",
       "    </tr>\n",
       "  </tbody>\n",
       "</table>\n",
       "</div>"
      ],
      "text/plain": [
       "                 Open       High        Low      Close  Adj_Close    Volume\n",
       "Date                                                                       \n",
       "2017-01-03  62.790001  62.840000  62.130001  62.580002  57.807823  20694100\n",
       "2017-01-04  62.480000  62.750000  62.119999  62.299999  57.549179  21340000\n",
       "2017-01-05  62.189999  62.660000  62.029999  62.299999  57.549179  24876000\n",
       "2017-01-06  62.299999  63.150002  62.040001  62.840000  58.047993  19922900\n",
       "2017-01-09  62.759998  63.080002  62.540001  62.639999  57.863243  20382700"
      ]
     },
     "execution_count": 3,
     "metadata": {},
     "output_type": "execute_result"
    }
   ],
   "source": [
    "df_final.head()"
   ]
  },
  {
   "cell_type": "code",
   "execution_count": 4,
   "metadata": {},
   "outputs": [
    {
     "data": {
      "text/plain": [
       "(1426, 6)"
      ]
     },
     "execution_count": 4,
     "metadata": {},
     "output_type": "execute_result"
    }
   ],
   "source": [
    "\n",
    "df_final.shape"
   ]
  },
  {
   "cell_type": "code",
   "execution_count": 5,
   "metadata": {},
   "outputs": [
    {
     "data": {
      "text/html": [
       "<div>\n",
       "<style scoped>\n",
       "    .dataframe tbody tr th:only-of-type {\n",
       "        vertical-align: middle;\n",
       "    }\n",
       "\n",
       "    .dataframe tbody tr th {\n",
       "        vertical-align: top;\n",
       "    }\n",
       "\n",
       "    .dataframe thead th {\n",
       "        text-align: right;\n",
       "    }\n",
       "</style>\n",
       "<table border=\"1\" class=\"dataframe\">\n",
       "  <thead>\n",
       "    <tr style=\"text-align: right;\">\n",
       "      <th></th>\n",
       "      <th>Open</th>\n",
       "      <th>High</th>\n",
       "      <th>Low</th>\n",
       "      <th>Close</th>\n",
       "      <th>Adj_Close</th>\n",
       "      <th>Volume</th>\n",
       "    </tr>\n",
       "  </thead>\n",
       "  <tbody>\n",
       "    <tr>\n",
       "      <th>count</th>\n",
       "      <td>1426.000000</td>\n",
       "      <td>1426.000000</td>\n",
       "      <td>1426.000000</td>\n",
       "      <td>1426.000000</td>\n",
       "      <td>1426.000000</td>\n",
       "      <td>1.426000e+03</td>\n",
       "    </tr>\n",
       "    <tr>\n",
       "      <th>mean</th>\n",
       "      <td>169.561353</td>\n",
       "      <td>171.243268</td>\n",
       "      <td>167.753464</td>\n",
       "      <td>169.588822</td>\n",
       "      <td>165.923293</td>\n",
       "      <td>2.890647e+07</td>\n",
       "    </tr>\n",
       "    <tr>\n",
       "      <th>std</th>\n",
       "      <td>82.510456</td>\n",
       "      <td>83.402749</td>\n",
       "      <td>81.533050</td>\n",
       "      <td>82.509972</td>\n",
       "      <td>83.539829</td>\n",
       "      <td>1.262903e+07</td>\n",
       "    </tr>\n",
       "    <tr>\n",
       "      <th>min</th>\n",
       "      <td>62.189999</td>\n",
       "      <td>62.660000</td>\n",
       "      <td>61.950001</td>\n",
       "      <td>62.299999</td>\n",
       "      <td>57.549179</td>\n",
       "      <td>7.425600e+06</td>\n",
       "    </tr>\n",
       "    <tr>\n",
       "      <th>25%</th>\n",
       "      <td>98.414999</td>\n",
       "      <td>99.912503</td>\n",
       "      <td>97.302502</td>\n",
       "      <td>98.444999</td>\n",
       "      <td>93.971957</td>\n",
       "      <td>2.075820e+07</td>\n",
       "    </tr>\n",
       "    <tr>\n",
       "      <th>50%</th>\n",
       "      <td>142.135002</td>\n",
       "      <td>144.700005</td>\n",
       "      <td>139.805001</td>\n",
       "      <td>141.455002</td>\n",
       "      <td>137.402313</td>\n",
       "      <td>2.568230e+07</td>\n",
       "    </tr>\n",
       "    <tr>\n",
       "      <th>75%</th>\n",
       "      <td>243.832501</td>\n",
       "      <td>245.525005</td>\n",
       "      <td>241.487496</td>\n",
       "      <td>243.752502</td>\n",
       "      <td>240.720517</td>\n",
       "      <td>3.318965e+07</td>\n",
       "    </tr>\n",
       "    <tr>\n",
       "      <th>max</th>\n",
       "      <td>344.619995</td>\n",
       "      <td>349.670013</td>\n",
       "      <td>342.200012</td>\n",
       "      <td>343.109985</td>\n",
       "      <td>340.882782</td>\n",
       "      <td>1.112421e+08</td>\n",
       "    </tr>\n",
       "  </tbody>\n",
       "</table>\n",
       "</div>"
      ],
      "text/plain": [
       "              Open         High          Low        Close    Adj_Close  \\\n",
       "count  1426.000000  1426.000000  1426.000000  1426.000000  1426.000000   \n",
       "mean    169.561353   171.243268   167.753464   169.588822   165.923293   \n",
       "std      82.510456    83.402749    81.533050    82.509972    83.539829   \n",
       "min      62.189999    62.660000    61.950001    62.299999    57.549179   \n",
       "25%      98.414999    99.912503    97.302502    98.444999    93.971957   \n",
       "50%     142.135002   144.700005   139.805001   141.455002   137.402313   \n",
       "75%     243.832501   245.525005   241.487496   243.752502   240.720517   \n",
       "max     344.619995   349.670013   342.200012   343.109985   340.882782   \n",
       "\n",
       "             Volume  \n",
       "count  1.426000e+03  \n",
       "mean   2.890647e+07  \n",
       "std    1.262903e+07  \n",
       "min    7.425600e+06  \n",
       "25%    2.075820e+07  \n",
       "50%    2.568230e+07  \n",
       "75%    3.318965e+07  \n",
       "max    1.112421e+08  "
      ]
     },
     "execution_count": 5,
     "metadata": {},
     "output_type": "execute_result"
    }
   ],
   "source": [
    "df_final.describe()"
   ]
  },
  {
   "cell_type": "code",
   "execution_count": 6,
   "metadata": {},
   "outputs": [
    {
     "data": {
      "text/plain": [
       "False"
      ]
     },
     "execution_count": 6,
     "metadata": {},
     "output_type": "execute_result"
    }
   ],
   "source": [
    "df_final.isnull().values.any()"
   ]
  },
  {
   "cell_type": "code",
   "execution_count": 8,
   "metadata": {},
   "outputs": [
    {
     "data": {
      "text/plain": [
       "<AxesSubplot:xlabel='Date'>"
      ]
     },
     "execution_count": 8,
     "metadata": {},
     "output_type": "execute_result"
    },
    {
     "data": {
      "image/png": "[encoded data removed]",
      "text/plain": [
       "<Figure size 640x480 with 1 Axes>"
      ]
     },
     "metadata": {},
     "output_type": "display_data"
    }
   ],
   "source": [
    "df_final['Adj_Close'].plot()"
   ]
  },
  {
   "cell_type": "markdown",
   "metadata": {},
   "source": [
    "# Correlation Analysis"
   ]
  },
  {
   "cell_type": "code",
   "execution_count": 10,
   "metadata": {},
   "outputs": [],
   "source": [
    "X=df_final.drop(['Adj_Close'],axis=1)\n",
    "X=X.drop(['Close'],axis=1)"
   ]
  },
  {
   "cell_type": "code",
   "execution_count": 11,
   "metadata": {},
   "outputs": [
    {
     "data": {
      "text/plain": [
       "<AxesSubplot:title={'center':'Correlation with Adj Close'}>"
      ]
     },
     "execution_count": 11,
     "metadata": {},
     "output_type": "execute_result"
    },
    {
     "data": {
      "image/png": "[encoded data removed]",
      "text/plain": [
       "<Figure size 2000x1000 with 1 Axes>"
      ]
     },
     "metadata": {},
     "output_type": "display_data"
    }
   ],
   "source": [
    "X.corrwith(df_final['Adj_Close']).plot.bar(\n",
    "        figsize = (20, 10), title = \"Correlation with Adj Close\", fontsize = 20,\n",
    "        rot = 90, grid = True)"
   ]
  },
  {
   "cell_type": "code",
   "execution_count": 12,
   "metadata": {},
   "outputs": [
    {
     "data": {
      "text/html": [
       "<div>\n",
       "<style scoped>\n",
       "    .dataframe tbody tr th:only-of-type {\n",
       "        vertical-align: middle;\n",
       "    }\n",
       "\n",
       "    .dataframe tbody tr th {\n",
       "        vertical-align: top;\n",
       "    }\n",
       "\n",
       "    .dataframe thead th {\n",
       "        text-align: right;\n",
       "    }\n",
       "</style>\n",
       "<table border=\"1\" class=\"dataframe\">\n",
       "  <thead>\n",
       "    <tr style=\"text-align: right;\">\n",
       "      <th></th>\n",
       "      <th>Open</th>\n",
       "      <th>High</th>\n",
       "      <th>Low</th>\n",
       "      <th>Close</th>\n",
       "      <th>Adj_Close</th>\n",
       "      <th>Volume</th>\n",
       "    </tr>\n",
       "    <tr>\n",
       "      <th>Date</th>\n",
       "      <th></th>\n",
       "      <th></th>\n",
       "      <th></th>\n",
       "      <th></th>\n",
       "      <th></th>\n",
       "      <th></th>\n",
       "    </tr>\n",
       "  </thead>\n",
       "  <tbody>\n",
       "    <tr>\n",
       "      <th>2017-01-03</th>\n",
       "      <td>62.790001</td>\n",
       "      <td>62.840000</td>\n",
       "      <td>62.130001</td>\n",
       "      <td>62.580002</td>\n",
       "      <td>57.807823</td>\n",
       "      <td>20694100</td>\n",
       "    </tr>\n",
       "    <tr>\n",
       "      <th>2017-01-04</th>\n",
       "      <td>62.480000</td>\n",
       "      <td>62.750000</td>\n",
       "      <td>62.119999</td>\n",
       "      <td>62.299999</td>\n",
       "      <td>57.549179</td>\n",
       "      <td>21340000</td>\n",
       "    </tr>\n",
       "    <tr>\n",
       "      <th>2017-01-05</th>\n",
       "      <td>62.189999</td>\n",
       "      <td>62.660000</td>\n",
       "      <td>62.029999</td>\n",
       "      <td>62.299999</td>\n",
       "      <td>57.549179</td>\n",
       "      <td>24876000</td>\n",
       "    </tr>\n",
       "    <tr>\n",
       "      <th>2017-01-06</th>\n",
       "      <td>62.299999</td>\n",
       "      <td>63.150002</td>\n",
       "      <td>62.040001</td>\n",
       "      <td>62.840000</td>\n",
       "      <td>58.047993</td>\n",
       "      <td>19922900</td>\n",
       "    </tr>\n",
       "    <tr>\n",
       "      <th>2017-01-09</th>\n",
       "      <td>62.759998</td>\n",
       "      <td>63.080002</td>\n",
       "      <td>62.540001</td>\n",
       "      <td>62.639999</td>\n",
       "      <td>57.863243</td>\n",
       "      <td>20382700</td>\n",
       "    </tr>\n",
       "  </tbody>\n",
       "</table>\n",
       "</div>"
      ],
      "text/plain": [
       "                 Open       High        Low      Close  Adj_Close    Volume\n",
       "Date                                                                       \n",
       "2017-01-03  62.790001  62.840000  62.130001  62.580002  57.807823  20694100\n",
       "2017-01-04  62.480000  62.750000  62.119999  62.299999  57.549179  21340000\n",
       "2017-01-05  62.189999  62.660000  62.029999  62.299999  57.549179  24876000\n",
       "2017-01-06  62.299999  63.150002  62.040001  62.840000  58.047993  19922900\n",
       "2017-01-09  62.759998  63.080002  62.540001  62.639999  57.863243  20382700"
      ]
     },
     "metadata": {},
     "output_type": "display_data"
    }
   ],
   "source": [
    "test = df_final\n",
    "# Target column\n",
    "target_adj_close = pd.DataFrame(test['Adj_Close'])\n",
    "display(test.head())"
   ]
  },
  {
   "cell_type": "code",
   "execution_count": 13,
   "metadata": {},
   "outputs": [],
   "source": [
    "# selecting Feature Columns\n",
    "feature_columns = ['Open', 'High', 'Low', 'Volume']"
   ]
  },
  {
   "cell_type": "markdown",
   "metadata": {},
   "source": [
    "# Normalizing the data"
   ]
  },
  {
   "cell_type": "code",
   "execution_count": 14,
   "metadata": {},
   "outputs": [
    {
     "data": {
      "text/html": [
       "<div>\n",
       "<style scoped>\n",
       "    .dataframe tbody tr th:only-of-type {\n",
       "        vertical-align: middle;\n",
       "    }\n",
       "\n",
       "    .dataframe tbody tr th {\n",
       "        vertical-align: top;\n",
       "    }\n",
       "\n",
       "    .dataframe thead th {\n",
       "        text-align: right;\n",
       "    }\n",
       "</style>\n",
       "<table border=\"1\" class=\"dataframe\">\n",
       "  <thead>\n",
       "    <tr style=\"text-align: right;\">\n",
       "      <th></th>\n",
       "      <th>Open</th>\n",
       "      <th>High</th>\n",
       "      <th>Low</th>\n",
       "      <th>Volume</th>\n",
       "    </tr>\n",
       "    <tr>\n",
       "      <th>Date</th>\n",
       "      <th></th>\n",
       "      <th></th>\n",
       "      <th></th>\n",
       "      <th></th>\n",
       "    </tr>\n",
       "  </thead>\n",
       "  <tbody>\n",
       "    <tr>\n",
       "      <th>2017-01-03</th>\n",
       "      <td>0.002124</td>\n",
       "      <td>0.000627</td>\n",
       "      <td>0.000642</td>\n",
       "      <td>0.127807</td>\n",
       "    </tr>\n",
       "    <tr>\n",
       "      <th>2017-01-04</th>\n",
       "      <td>0.001027</td>\n",
       "      <td>0.000314</td>\n",
       "      <td>0.000607</td>\n",
       "      <td>0.134029</td>\n",
       "    </tr>\n",
       "    <tr>\n",
       "      <th>2017-01-05</th>\n",
       "      <td>0.000000</td>\n",
       "      <td>0.000000</td>\n",
       "      <td>0.000285</td>\n",
       "      <td>0.168089</td>\n",
       "    </tr>\n",
       "    <tr>\n",
       "      <th>2017-01-06</th>\n",
       "      <td>0.000389</td>\n",
       "      <td>0.001707</td>\n",
       "      <td>0.000321</td>\n",
       "      <td>0.120379</td>\n",
       "    </tr>\n",
       "    <tr>\n",
       "      <th>2017-01-09</th>\n",
       "      <td>0.002018</td>\n",
       "      <td>0.001463</td>\n",
       "      <td>0.002105</td>\n",
       "      <td>0.124808</td>\n",
       "    </tr>\n",
       "  </tbody>\n",
       "</table>\n",
       "</div>"
      ],
      "text/plain": [
       "                Open      High       Low    Volume\n",
       "Date                                              \n",
       "2017-01-03  0.002124  0.000627  0.000642  0.127807\n",
       "2017-01-04  0.001027  0.000314  0.000607  0.134029\n",
       "2017-01-05  0.000000  0.000000  0.000285  0.168089\n",
       "2017-01-06  0.000389  0.001707  0.000321  0.120379\n",
       "2017-01-09  0.002018  0.001463  0.002105  0.124808"
      ]
     },
     "execution_count": 14,
     "metadata": {},
     "output_type": "execute_result"
    }
   ],
   "source": [
    "from sklearn.preprocessing import MinMaxScaler\n",
    "scaler = MinMaxScaler()\n",
    "feature_minmax_transform_data = scaler.fit_transform(test[feature_columns])\n",
    "feature_minmax_transform = pd.DataFrame(columns=feature_columns, data=feature_minmax_transform_data, index=test.index)\n",
    "feature_minmax_transform.head()"
   ]
  },
  {
   "cell_type": "code",
   "execution_count": 15,
   "metadata": {},
   "outputs": [
    {
     "data": {
      "text/html": [
       "<div>\n",
       "<style scoped>\n",
       "    .dataframe tbody tr th:only-of-type {\n",
       "        vertical-align: middle;\n",
       "    }\n",
       "\n",
       "    .dataframe tbody tr th {\n",
       "        vertical-align: top;\n",
       "    }\n",
       "\n",
       "    .dataframe thead th {\n",
       "        text-align: right;\n",
       "    }\n",
       "</style>\n",
       "<table border=\"1\" class=\"dataframe\">\n",
       "  <thead>\n",
       "    <tr style=\"text-align: right;\">\n",
       "      <th></th>\n",
       "      <th>Open</th>\n",
       "      <th>High</th>\n",
       "      <th>Low</th>\n",
       "      <th>Volume</th>\n",
       "    </tr>\n",
       "    <tr>\n",
       "      <th>Date</th>\n",
       "      <th></th>\n",
       "      <th></th>\n",
       "      <th></th>\n",
       "      <th></th>\n",
       "    </tr>\n",
       "  </thead>\n",
       "  <tbody>\n",
       "    <tr>\n",
       "      <th>2017-01-03</th>\n",
       "      <td>0.002124</td>\n",
       "      <td>0.000627</td>\n",
       "      <td>0.000642</td>\n",
       "      <td>0.127807</td>\n",
       "    </tr>\n",
       "    <tr>\n",
       "      <th>2017-01-04</th>\n",
       "      <td>0.001027</td>\n",
       "      <td>0.000314</td>\n",
       "      <td>0.000607</td>\n",
       "      <td>0.134029</td>\n",
       "    </tr>\n",
       "    <tr>\n",
       "      <th>2017-01-05</th>\n",
       "      <td>0.000000</td>\n",
       "      <td>0.000000</td>\n",
       "      <td>0.000285</td>\n",
       "      <td>0.168089</td>\n",
       "    </tr>\n",
       "    <tr>\n",
       "      <th>2017-01-06</th>\n",
       "      <td>0.000389</td>\n",
       "      <td>0.001707</td>\n",
       "      <td>0.000321</td>\n",
       "      <td>0.120379</td>\n",
       "    </tr>\n",
       "    <tr>\n",
       "      <th>2017-01-09</th>\n",
       "      <td>0.002018</td>\n",
       "      <td>0.001463</td>\n",
       "      <td>0.002105</td>\n",
       "      <td>0.124808</td>\n",
       "    </tr>\n",
       "  </tbody>\n",
       "</table>\n",
       "</div>"
      ],
      "text/plain": [
       "                Open      High       Low    Volume\n",
       "Date                                              \n",
       "2017-01-03  0.002124  0.000627  0.000642  0.127807\n",
       "2017-01-04  0.001027  0.000314  0.000607  0.134029\n",
       "2017-01-05  0.000000  0.000000  0.000285  0.168089\n",
       "2017-01-06  0.000389  0.001707  0.000321  0.120379\n",
       "2017-01-09  0.002018  0.001463  0.002105  0.124808"
      ]
     },
     "metadata": {},
     "output_type": "display_data"
    },
    {
     "name": "stdout",
     "output_type": "stream",
     "text": [
      "Shape of features :  (1426, 4)\n",
      "Shape of target :  (1426, 1)\n"
     ]
    },
    {
     "data": {
      "text/html": [
       "<div>\n",
       "<style scoped>\n",
       "    .dataframe tbody tr th:only-of-type {\n",
       "        vertical-align: middle;\n",
       "    }\n",
       "\n",
       "    .dataframe tbody tr th {\n",
       "        vertical-align: top;\n",
       "    }\n",
       "\n",
       "    .dataframe thead th {\n",
       "        text-align: right;\n",
       "    }\n",
       "</style>\n",
       "<table border=\"1\" class=\"dataframe\">\n",
       "  <thead>\n",
       "    <tr style=\"text-align: right;\">\n",
       "      <th></th>\n",
       "      <th>Open</th>\n",
       "      <th>High</th>\n",
       "      <th>Low</th>\n",
       "      <th>Volume</th>\n",
       "    </tr>\n",
       "    <tr>\n",
       "      <th>Date</th>\n",
       "      <th></th>\n",
       "      <th></th>\n",
       "      <th></th>\n",
       "      <th></th>\n",
       "    </tr>\n",
       "  </thead>\n",
       "  <tbody>\n",
       "    <tr>\n",
       "      <th>2022-08-24</th>\n",
       "      <td>0.754948</td>\n",
       "      <td>0.747605</td>\n",
       "      <td>0.760607</td>\n",
       "      <td>0.103176</td>\n",
       "    </tr>\n",
       "    <tr>\n",
       "      <th>2022-08-25</th>\n",
       "      <td>0.761746</td>\n",
       "      <td>0.753841</td>\n",
       "      <td>0.758501</td>\n",
       "      <td>0.088211</td>\n",
       "    </tr>\n",
       "    <tr>\n",
       "      <th>2022-08-26</th>\n",
       "      <td>0.767942</td>\n",
       "      <td>0.758440</td>\n",
       "      <td>0.735165</td>\n",
       "      <td>0.193677</td>\n",
       "    </tr>\n",
       "    <tr>\n",
       "      <th>2022-08-29</th>\n",
       "      <td>0.721099</td>\n",
       "      <td>0.713355</td>\n",
       "      <td>0.720428</td>\n",
       "      <td>0.124382</td>\n",
       "    </tr>\n",
       "    <tr>\n",
       "      <th>2022-08-30</th>\n",
       "      <td>0.724002</td>\n",
       "      <td>0.712135</td>\n",
       "      <td>0.709045</td>\n",
       "      <td>0.147775</td>\n",
       "    </tr>\n",
       "  </tbody>\n",
       "</table>\n",
       "</div>"
      ],
      "text/plain": [
       "                Open      High       Low    Volume\n",
       "Date                                              \n",
       "2022-08-24  0.754948  0.747605  0.760607  0.103176\n",
       "2022-08-25  0.761746  0.753841  0.758501  0.088211\n",
       "2022-08-26  0.767942  0.758440  0.735165  0.193677\n",
       "2022-08-29  0.721099  0.713355  0.720428  0.124382\n",
       "2022-08-30  0.724002  0.712135  0.709045  0.147775"
      ]
     },
     "metadata": {},
     "output_type": "display_data"
    },
    {
     "data": {
      "text/html": [
       "<div>\n",
       "<style scoped>\n",
       "    .dataframe tbody tr th:only-of-type {\n",
       "        vertical-align: middle;\n",
       "    }\n",
       "\n",
       "    .dataframe tbody tr th {\n",
       "        vertical-align: top;\n",
       "    }\n",
       "\n",
       "    .dataframe thead th {\n",
       "        text-align: right;\n",
       "    }\n",
       "</style>\n",
       "<table border=\"1\" class=\"dataframe\">\n",
       "  <thead>\n",
       "    <tr style=\"text-align: right;\">\n",
       "      <th></th>\n",
       "      <th>Adj_Close</th>\n",
       "    </tr>\n",
       "    <tr>\n",
       "      <th>Date</th>\n",
       "      <th></th>\n",
       "    </tr>\n",
       "  </thead>\n",
       "  <tbody>\n",
       "    <tr>\n",
       "      <th>2022-08-24</th>\n",
       "      <td>278.850006</td>\n",
       "    </tr>\n",
       "    <tr>\n",
       "      <th>2022-08-25</th>\n",
       "      <td>268.089996</td>\n",
       "    </tr>\n",
       "    <tr>\n",
       "      <th>2022-08-26</th>\n",
       "      <td>265.230011</td>\n",
       "    </tr>\n",
       "    <tr>\n",
       "      <th>2022-08-29</th>\n",
       "      <td>262.970001</td>\n",
       "    </tr>\n",
       "    <tr>\n",
       "      <th>2022-08-30</th>\n",
       "      <td>261.470001</td>\n",
       "    </tr>\n",
       "  </tbody>\n",
       "</table>\n",
       "</div>"
      ],
      "text/plain": [
       "             Adj_Close\n",
       "Date                  \n",
       "2022-08-24  278.850006\n",
       "2022-08-25  268.089996\n",
       "2022-08-26  265.230011\n",
       "2022-08-29  262.970001\n",
       "2022-08-30  261.470001"
      ]
     },
     "metadata": {},
     "output_type": "display_data"
    },
    {
     "name": "stdout",
     "output_type": "stream",
     "text": [
      "\n",
      " -----After process------ \n",
      "\n",
      "Shape of features :  (1336, 4)\n",
      "Shape of target :  (1336, 1)\n"
     ]
    },
    {
     "data": {
      "text/html": [
       "<div>\n",
       "<style scoped>\n",
       "    .dataframe tbody tr th:only-of-type {\n",
       "        vertical-align: middle;\n",
       "    }\n",
       "\n",
       "    .dataframe tbody tr th {\n",
       "        vertical-align: top;\n",
       "    }\n",
       "\n",
       "    .dataframe thead th {\n",
       "        text-align: right;\n",
       "    }\n",
       "</style>\n",
       "<table border=\"1\" class=\"dataframe\">\n",
       "  <thead>\n",
       "    <tr style=\"text-align: right;\">\n",
       "      <th></th>\n",
       "      <th>Adj_Close</th>\n",
       "    </tr>\n",
       "    <tr>\n",
       "      <th>Date</th>\n",
       "      <th></th>\n",
       "    </tr>\n",
       "  </thead>\n",
       "  <tbody>\n",
       "    <tr>\n",
       "      <th>2022-04-18</th>\n",
       "      <td>284.034149</td>\n",
       "    </tr>\n",
       "    <tr>\n",
       "      <th>2022-04-19</th>\n",
       "      <td>285.089447</td>\n",
       "    </tr>\n",
       "    <tr>\n",
       "      <th>2022-04-20</th>\n",
       "      <td>279.564056</td>\n",
       "    </tr>\n",
       "    <tr>\n",
       "      <th>2022-04-21</th>\n",
       "      <td>272.814178</td>\n",
       "    </tr>\n",
       "    <tr>\n",
       "      <th>2022-04-22</th>\n",
       "      <td>279.474487</td>\n",
       "    </tr>\n",
       "  </tbody>\n",
       "</table>\n",
       "</div>"
      ],
      "text/plain": [
       "             Adj_Close\n",
       "Date                  \n",
       "2022-04-18  284.034149\n",
       "2022-04-19  285.089447\n",
       "2022-04-20  279.564056\n",
       "2022-04-21  272.814178\n",
       "2022-04-22  279.474487"
      ]
     },
     "metadata": {},
     "output_type": "display_data"
    }
   ],
   "source": [
    "display(feature_minmax_transform.head())\n",
    "print('Shape of features : ', feature_minmax_transform.shape)\n",
    "print('Shape of target : ', target_adj_close.shape)\n",
    "\n",
    "# Shift target array because we want to predict the n + 1 day value\n",
    "\n",
    "\n",
    "target_adj_close = target_adj_close.shift(-1)\n",
    "validation_y = target_adj_close[-90:-1]\n",
    "target_adj_close = target_adj_close[:-90]\n",
    "\n",
    "# Taking last 90 rows of data to be validation set\n",
    "validation_X = feature_minmax_transform[-90:-1]\n",
    "feature_minmax_transform = feature_minmax_transform[:-90]\n",
    "display(validation_X.tail())\n",
    "display(validation_y.tail())\n",
    "\n",
    "print(\"\\n -----After process------ \\n\")\n",
    "print('Shape of features : ', feature_minmax_transform.shape)\n",
    "print('Shape of target : ', target_adj_close.shape)\n",
    "display(target_adj_close.tail())"
   ]
  },
  {
   "cell_type": "markdown",
   "metadata": {},
   "source": [
    "# Train test Split using Timeseriessplit"
   ]
  },
  {
   "cell_type": "code",
   "execution_count": 16,
   "metadata": {},
   "outputs": [],
   "source": [
    "ts_split= TimeSeriesSplit(n_splits=10)\n",
    "for train_index, test_index in ts_split.split(feature_minmax_transform):\n",
    "        X_train, X_test = feature_minmax_transform[:len(train_index)], feature_minmax_transform[len(train_index): (len(train_index)+len(test_index))]\n",
    "        y_train, y_test = target_adj_close[:len(train_index)].values.ravel(), target_adj_close[len(train_index): (len(train_index)+len(test_index))].values.ravel()"
   ]
  },
  {
   "cell_type": "code",
   "execution_count": 17,
   "metadata": {},
   "outputs": [
    {
     "data": {
      "text/plain": [
       "(1215, 4)"
      ]
     },
     "execution_count": 17,
     "metadata": {},
     "output_type": "execute_result"
    }
   ],
   "source": [
    "\n",
    "X_train.shape"
   ]
  },
  {
   "cell_type": "code",
   "execution_count": 18,
   "metadata": {},
   "outputs": [
    {
     "data": {
      "text/plain": [
       "(121, 4)"
      ]
     },
     "execution_count": 18,
     "metadata": {},
     "output_type": "execute_result"
    }
   ],
   "source": [
    "X_test.shape"
   ]
  },
  {
   "cell_type": "code",
   "execution_count": 19,
   "metadata": {},
   "outputs": [
    {
     "data": {
      "text/plain": [
       "(1215,)"
      ]
     },
     "execution_count": 19,
     "metadata": {},
     "output_type": "execute_result"
    }
   ],
   "source": [
    "y_train.shape"
   ]
  },
  {
   "cell_type": "code",
   "execution_count": 20,
   "metadata": {},
   "outputs": [
    {
     "data": {
      "text/plain": [
       "(121,)"
      ]
     },
     "execution_count": 20,
     "metadata": {},
     "output_type": "execute_result"
    }
   ],
   "source": [
    "y_test.shape"
   ]
  },
  {
   "cell_type": "code",
   "execution_count": 21,
   "metadata": {},
   "outputs": [],
   "source": [
    "def validate_result(model, model_name):\n",
    "    predicted = model.predict(validation_X)\n",
    "    RSME_score = np.sqrt(mean_squared_error(validation_y, predicted))\n",
    "    print('RMSE: ', RSME_score)\n",
    "    \n",
    "    R2_score = r2_score(validation_y, predicted)\n",
    "    print('R2 score: ', R2_score)\n",
    "\n",
    "    plt.plot(validation_y.index, predicted,'r', label='Predict')\n",
    "    plt.plot(validation_y.index, validation_y,'b', label='Actual')\n",
    "    plt.ylabel('Price')\n",
    "    plt.gca().xaxis.set_major_formatter(mdates.DateFormatter('%Y-%m-%d'))\n",
    "    plt.gca().xaxis.set_major_locator(mdates.MonthLocator())\n",
    "    plt.title(model_name + ' Predict vs Actual')\n",
    "    plt.legend(loc='upper right')\n",
    "    plt.show()"
   ]
  },
  {
   "cell_type": "markdown",
   "metadata": {},
   "source": [
    "# Benchmark Model"
   ]
  },
  {
   "cell_type": "code",
   "execution_count": 22,
   "metadata": {},
   "outputs": [
    {
     "name": "stdout",
     "output_type": "stream",
     "text": [
      "RMSE:  8.080067466493164\n",
      "R2 score:  0.5848302063318935\n"
     ]
    },
    {
     "data": {
      "image/png": "[encoded data removed]",
      "text/plain": [
       "<Figure size 640x480 with 1 Axes>"
      ]
     },
     "metadata": {},
     "output_type": "display_data"
    }
   ],
   "source": [
    "from sklearn.tree import DecisionTreeRegressor\n",
    "\n",
    "dt = DecisionTreeRegressor(random_state=0)\n",
    "\n",
    "benchmark_dt=dt.fit(X_train, y_train)\n",
    "\n",
    "validate_result(benchmark_dt, 'Decision Tree Regression')"
   ]
  },
  {
   "cell_type": "markdown",
   "metadata": {},
   "source": [
    "# Process the data for LSTM"
   ]
  },
  {
   "cell_type": "code",
   "execution_count": 23,
   "metadata": {},
   "outputs": [],
   "source": [
    "X_train =np.array(X_train)\n",
    "X_test =np.array(X_test)\n",
    "\n",
    "X_tr_t = X_train.reshape(X_train.shape[0], 1, X_train.shape[1])\n",
    "X_tst_t = X_test.reshape(X_test.shape[0], 1, X_test.shape[1])"
   ]
  },
  {
   "cell_type": "markdown",
   "metadata": {},
   "source": [
    "# Model building : LSTM"
   ]
  },
  {
   "cell_type": "code",
   "execution_count": 49,
   "metadata": {},
   "outputs": [
    {
     "name": "stdout",
     "output_type": "stream",
     "text": [
      "Epoch 1/200\n",
      "152/152 [==============================] - 4s 5ms/step - loss: 20058.6836\n",
      "Epoch 2/200\n",
      "152/152 [==============================] - 1s 4ms/step - loss: 3827.2666\n",
      "Epoch 3/200\n",
      "152/152 [==============================] - 1s 5ms/step - loss: 165.2802\n",
      "Epoch 4/200\n",
      "152/152 [==============================] - 1s 9ms/step - loss: 139.3297\n",
      "Epoch 5/200\n",
      "152/152 [==============================] - 1s 7ms/step - loss: 124.7874\n",
      "Epoch 6/200\n",
      "152/152 [==============================] - 1s 7ms/step - loss: 111.5226\n",
      "Epoch 7/200\n",
      "152/152 [==============================] - 1s 8ms/step - loss: 99.4155\n",
      "Epoch 8/200\n",
      "152/152 [==============================] - 1s 7ms/step - loss: 88.3714\n",
      "Epoch 9/200\n",
      "152/152 [==============================] - 1s 7ms/step - loss: 78.4661\n",
      "Epoch 10/200\n",
      "152/152 [==============================] - 1s 8ms/step - loss: 69.7399\n",
      "Epoch 11/200\n",
      "152/152 [==============================] - 1s 6ms/step - loss: 62.2209\n",
      "Epoch 12/200\n",
      "152/152 [==============================] - 1s 6ms/step - loss: 55.9272\n",
      "Epoch 13/200\n",
      "152/152 [==============================] - 1s 8ms/step - loss: 50.7756\n",
      "Epoch 14/200\n",
      "152/152 [==============================] - 1s 8ms/step - loss: 46.6534\n",
      "Epoch 15/200\n",
      "152/152 [==============================] - 1s 8ms/step - loss: 43.4076\n",
      "Epoch 16/200\n",
      "152/152 [==============================] - 1s 8ms/step - loss: 40.8837\n",
      "Epoch 17/200\n",
      "152/152 [==============================] - 1s 6ms/step - loss: 38.9147\n",
      "Epoch 18/200\n",
      "152/152 [==============================] - 1s 7ms/step - loss: 37.3356\n",
      "Epoch 19/200\n",
      "152/152 [==============================] - 1s 8ms/step - loss: 36.0234\n",
      "Epoch 20/200\n",
      "152/152 [==============================] - 1s 8ms/step - loss: 34.8808\n",
      "Epoch 21/200\n",
      "152/152 [==============================] - 1s 8ms/step - loss: 33.8328\n",
      "Epoch 22/200\n",
      "152/152 [==============================] - 1s 6ms/step - loss: 32.8402\n",
      "Epoch 23/200\n",
      "152/152 [==============================] - 1s 5ms/step - loss: 31.8794\n",
      "Epoch 24/200\n",
      "152/152 [==============================] - 1s 8ms/step - loss: 30.9115\n",
      "Epoch 25/200\n",
      "152/152 [==============================] - 1s 8ms/step - loss: 29.9444\n",
      "Epoch 26/200\n",
      "152/152 [==============================] - 1s 8ms/step - loss: 28.9653\n",
      "Epoch 27/200\n",
      "152/152 [==============================] - 1s 8ms/step - loss: 27.9914\n",
      "Epoch 28/200\n",
      "152/152 [==============================] - 1s 4ms/step - loss: 27.0465\n",
      "Epoch 29/200\n",
      "152/152 [==============================] - 1s 5ms/step - loss: 26.0924\n",
      "Epoch 30/200\n",
      "152/152 [==============================] - 1s 6ms/step - loss: 25.1745\n",
      "Epoch 31/200\n",
      "152/152 [==============================] - 1s 6ms/step - loss: 24.2733\n",
      "Epoch 32/200\n",
      "152/152 [==============================] - 1s 6ms/step - loss: 23.4220\n",
      "Epoch 33/200\n",
      "152/152 [==============================] - 1s 5ms/step - loss: 22.6325\n",
      "Epoch 34/200\n",
      "152/152 [==============================] - 1s 5ms/step - loss: 21.9121\n",
      "Epoch 35/200\n",
      "152/152 [==============================] - 1s 5ms/step - loss: 21.2549\n",
      "Epoch 36/200\n",
      "152/152 [==============================] - 1s 6ms/step - loss: 20.6687\n",
      "Epoch 37/200\n",
      "152/152 [==============================] - 1s 5ms/step - loss: 20.1573\n",
      "Epoch 38/200\n",
      "152/152 [==============================] - 1s 6ms/step - loss: 19.7071\n",
      "Epoch 39/200\n",
      "152/152 [==============================] - 1s 5ms/step - loss: 19.2925\n",
      "Epoch 40/200\n",
      "152/152 [==============================] - 1s 4ms/step - loss: 18.9207\n",
      "Epoch 41/200\n",
      "152/152 [==============================] - 1s 5ms/step - loss: 18.5770\n",
      "Epoch 42/200\n",
      "152/152 [==============================] - 1s 5ms/step - loss: 18.2619\n",
      "Epoch 43/200\n",
      "152/152 [==============================] - 1s 4ms/step - loss: 17.9693\n",
      "Epoch 44/200\n",
      "152/152 [==============================] - 1s 5ms/step - loss: 17.6986\n",
      "Epoch 45/200\n",
      "152/152 [==============================] - 1s 5ms/step - loss: 17.4467\n",
      "Epoch 46/200\n",
      "152/152 [==============================] - 1s 5ms/step - loss: 17.2066\n",
      "Epoch 47/200\n",
      "152/152 [==============================] - 1s 9ms/step - loss: 16.9834\n",
      "Epoch 48/200\n",
      "152/152 [==============================] - 1s 7ms/step - loss: 16.7732\n",
      "Epoch 49/200\n",
      "152/152 [==============================] - 1s 4ms/step - loss: 16.5681\n",
      "Epoch 50/200\n",
      "152/152 [==============================] - 1s 9ms/step - loss: 16.3729\n",
      "Epoch 51/200\n",
      "152/152 [==============================] - 1s 8ms/step - loss: 16.1854\n",
      "Epoch 52/200\n",
      "152/152 [==============================] - 1s 7ms/step - loss: 16.0073\n",
      "Epoch 53/200\n",
      "152/152 [==============================] - 1s 8ms/step - loss: 15.8329\n",
      "Epoch 54/200\n",
      "152/152 [==============================] - 1s 6ms/step - loss: 15.6653\n",
      "Epoch 55/200\n",
      "152/152 [==============================] - 1s 5ms/step - loss: 15.5047\n",
      "Epoch 56/200\n",
      "152/152 [==============================] - 1s 6ms/step - loss: 15.3462\n",
      "Epoch 57/200\n",
      "152/152 [==============================] - 1s 7ms/step - loss: 15.1932\n",
      "Epoch 58/200\n",
      "152/152 [==============================] - 1s 7ms/step - loss: 15.0459\n",
      "Epoch 59/200\n",
      "152/152 [==============================] - 1s 7ms/step - loss: 14.9027\n",
      "Epoch 60/200\n",
      "152/152 [==============================] - 1s 6ms/step - loss: 14.7641\n",
      "Epoch 61/200\n",
      "152/152 [==============================] - 1s 6ms/step - loss: 14.6308\n",
      "Epoch 62/200\n",
      "152/152 [==============================] - 1s 7ms/step - loss: 14.4994\n",
      "Epoch 63/200\n",
      "152/152 [==============================] - 1s 7ms/step - loss: 14.3699\n",
      "Epoch 64/200\n",
      "152/152 [==============================] - 1s 7ms/step - loss: 14.2416\n",
      "Epoch 65/200\n",
      "152/152 [==============================] - 1s 7ms/step - loss: 14.1111\n",
      "Epoch 66/200\n",
      "152/152 [==============================] - 1s 6ms/step - loss: 13.9801\n",
      "Epoch 67/200\n",
      "152/152 [==============================] - 1s 5ms/step - loss: 13.8544\n",
      "Epoch 68/200\n",
      "152/152 [==============================] - 1s 7ms/step - loss: 13.7331\n",
      "Epoch 69/200\n",
      "152/152 [==============================] - 1s 7ms/step - loss: 13.6145\n",
      "Epoch 70/200\n",
      "152/152 [==============================] - 1s 7ms/step - loss: 13.4974\n",
      "Epoch 71/200\n",
      "152/152 [==============================] - 1s 7ms/step - loss: 13.3836\n",
      "Epoch 72/200\n",
      "152/152 [==============================] - 1s 6ms/step - loss: 13.2731\n",
      "Epoch 73/200\n",
      "152/152 [==============================] - 1s 6ms/step - loss: 13.1670\n",
      "Epoch 74/200\n",
      "152/152 [==============================] - 1s 7ms/step - loss: 13.0621\n",
      "Epoch 75/200\n",
      "152/152 [==============================] - 1s 7ms/step - loss: 12.9584\n",
      "Epoch 76/200\n",
      "152/152 [==============================] - 1s 7ms/step - loss: 12.8559\n",
      "Epoch 77/200\n",
      "152/152 [==============================] - 1s 7ms/step - loss: 12.7551\n",
      "Epoch 78/200\n",
      "152/152 [==============================] - 1s 4ms/step - loss: 12.6565\n",
      "Epoch 79/200\n",
      "152/152 [==============================] - 1s 6ms/step - loss: 12.5601\n",
      "Epoch 80/200\n",
      "152/152 [==============================] - 1s 8ms/step - loss: 12.4658\n",
      "Epoch 81/200\n",
      "152/152 [==============================] - 1s 5ms/step - loss: 12.3736\n",
      "Epoch 82/200\n",
      "152/152 [==============================] - 1s 6ms/step - loss: 12.2837\n",
      "Epoch 83/200\n",
      "152/152 [==============================] - 1s 8ms/step - loss: 12.1955\n",
      "Epoch 84/200\n",
      "152/152 [==============================] - 1s 5ms/step - loss: 12.1084\n",
      "Epoch 85/200\n",
      "152/152 [==============================] - 1s 6ms/step - loss: 12.0238\n",
      "Epoch 86/200\n",
      "152/152 [==============================] - 1s 8ms/step - loss: 11.9413\n",
      "Epoch 87/200\n",
      "152/152 [==============================] - 1s 9ms/step - loss: 11.8612\n",
      "Epoch 88/200\n",
      "152/152 [==============================] - 1s 7ms/step - loss: 11.7833\n",
      "Epoch 89/200\n",
      "152/152 [==============================] - 1s 6ms/step - loss: 11.7068\n",
      "Epoch 90/200\n",
      "152/152 [==============================] - 1s 3ms/step - loss: 11.6318\n",
      "Epoch 91/200\n",
      "152/152 [==============================] - 1s 5ms/step - loss: 11.5584\n",
      "Epoch 92/200\n",
      "152/152 [==============================] - 1s 9ms/step - loss: 11.4879\n",
      "Epoch 93/200\n",
      "152/152 [==============================] - 1s 5ms/step - loss: 11.4188\n",
      "Epoch 94/200\n",
      "152/152 [==============================] - 0s 3ms/step - loss: 11.3508\n",
      "Epoch 95/200\n",
      "152/152 [==============================] - 1s 6ms/step - loss: 11.2856\n",
      "Epoch 96/200\n",
      "152/152 [==============================] - 1s 5ms/step - loss: 11.2216\n",
      "Epoch 97/200\n",
      "152/152 [==============================] - 1s 3ms/step - loss: 11.1595\n",
      "Epoch 98/200\n",
      "152/152 [==============================] - 1s 4ms/step - loss: 11.0992\n",
      "Epoch 99/200\n",
      "152/152 [==============================] - 1s 6ms/step - loss: 11.0406\n",
      "Epoch 100/200\n",
      "152/152 [==============================] - 1s 5ms/step - loss: 10.9854\n",
      "Epoch 101/200\n",
      "152/152 [==============================] - 1s 4ms/step - loss: 10.9318\n",
      "Epoch 102/200\n",
      "152/152 [==============================] - 1s 4ms/step - loss: 10.8775\n",
      "Epoch 103/200\n",
      "152/152 [==============================] - 1s 6ms/step - loss: 10.8248\n",
      "Epoch 104/200\n",
      "152/152 [==============================] - 1s 6ms/step - loss: 10.7742\n",
      "Epoch 105/200\n",
      "152/152 [==============================] - 1s 8ms/step - loss: 10.7247\n",
      "Epoch 106/200\n",
      "152/152 [==============================] - 1s 5ms/step - loss: 10.6775\n",
      "Epoch 107/200\n",
      "152/152 [==============================] - 1s 7ms/step - loss: 10.6334\n",
      "Epoch 108/200\n",
      "152/152 [==============================] - 1s 6ms/step - loss: 10.5912\n",
      "Epoch 109/200\n",
      "152/152 [==============================] - 1s 6ms/step - loss: 10.5515\n",
      "Epoch 110/200\n",
      "152/152 [==============================] - 1s 6ms/step - loss: 10.5115\n",
      "Epoch 111/200\n",
      "152/152 [==============================] - 1s 6ms/step - loss: 10.4739\n",
      "Epoch 112/200\n",
      "152/152 [==============================] - 1s 5ms/step - loss: 10.4386\n",
      "Epoch 113/200\n",
      "152/152 [==============================] - 1s 5ms/step - loss: 10.4055\n",
      "Epoch 114/200\n",
      "152/152 [==============================] - 1s 5ms/step - loss: 10.3733\n",
      "Epoch 115/200\n",
      "152/152 [==============================] - 1s 5ms/step - loss: 10.3427\n",
      "Epoch 116/200\n",
      "152/152 [==============================] - 1s 4ms/step - loss: 10.3138\n",
      "Epoch 117/200\n",
      "152/152 [==============================] - 1s 5ms/step - loss: 10.2865\n",
      "Epoch 118/200\n",
      "152/152 [==============================] - 1s 6ms/step - loss: 10.2597\n",
      "Epoch 119/200\n",
      "152/152 [==============================] - 1s 3ms/step - loss: 10.2337\n",
      "Epoch 120/200\n",
      "152/152 [==============================] - 1s 6ms/step - loss: 10.2084\n",
      "Epoch 121/200\n",
      "152/152 [==============================] - 1s 7ms/step - loss: 10.1849\n",
      "Epoch 122/200\n",
      "152/152 [==============================] - 1s 6ms/step - loss: 10.1629\n",
      "Epoch 123/200\n",
      "152/152 [==============================] - 1s 6ms/step - loss: 10.1422\n",
      "Epoch 124/200\n",
      "152/152 [==============================] - 1s 6ms/step - loss: 10.1224\n",
      "Epoch 125/200\n",
      "152/152 [==============================] - 1s 6ms/step - loss: 10.1039\n",
      "Epoch 126/200\n",
      "152/152 [==============================] - 1s 7ms/step - loss: 10.0867\n",
      "Epoch 127/200\n",
      "152/152 [==============================] - 1s 6ms/step - loss: 10.0701\n",
      "Epoch 128/200\n",
      "152/152 [==============================] - 0s 3ms/step - loss: 10.0534\n",
      "Epoch 129/200\n",
      "152/152 [==============================] - 1s 5ms/step - loss: 10.0371\n",
      "Epoch 130/200\n",
      "152/152 [==============================] - 1s 7ms/step - loss: 10.0223\n",
      "Epoch 131/200\n",
      "152/152 [==============================] - 1s 8ms/step - loss: 10.0089\n",
      "Epoch 132/200\n",
      "152/152 [==============================] - 1s 9ms/step - loss: 9.9965\n",
      "Epoch 133/200\n",
      "152/152 [==============================] - 1s 8ms/step - loss: 9.9851\n",
      "Epoch 134/200\n",
      "152/152 [==============================] - 1s 3ms/step - loss: 9.9745\n",
      "Epoch 135/200\n",
      "152/152 [==============================] - 0s 3ms/step - loss: 9.9649\n",
      "Epoch 136/200\n",
      "152/152 [==============================] - 1s 4ms/step - loss: 9.9551\n",
      "Epoch 137/200\n",
      "152/152 [==============================] - 1s 4ms/step - loss: 9.9464\n",
      "Epoch 138/200\n",
      "152/152 [==============================] - 1s 4ms/step - loss: 9.9382\n",
      "Epoch 139/200\n",
      "152/152 [==============================] - 1s 5ms/step - loss: 9.9303\n",
      "Epoch 140/200\n",
      "152/152 [==============================] - 1s 4ms/step - loss: 9.9234\n",
      "Epoch 141/200\n",
      "152/152 [==============================] - 1s 6ms/step - loss: 9.9170\n",
      "Epoch 142/200\n",
      "152/152 [==============================] - 0s 3ms/step - loss: 9.9113\n",
      "Epoch 143/200\n",
      "152/152 [==============================] - 0s 3ms/step - loss: 9.9064\n",
      "Epoch 144/200\n",
      "152/152 [==============================] - 1s 5ms/step - loss: 9.9020\n",
      "Epoch 145/200\n",
      "152/152 [==============================] - 1s 5ms/step - loss: 9.8984\n",
      "Epoch 146/200\n",
      "152/152 [==============================] - 1s 4ms/step - loss: 9.8953\n",
      "Epoch 147/200\n",
      "152/152 [==============================] - 1s 6ms/step - loss: 9.8925\n",
      "Epoch 148/200\n",
      "152/152 [==============================] - 1s 6ms/step - loss: 9.8901\n",
      "Epoch 149/200\n",
      "152/152 [==============================] - 1s 6ms/step - loss: 9.8882\n",
      "Epoch 150/200\n",
      "152/152 [==============================] - 1s 4ms/step - loss: 9.8869\n",
      "Epoch 151/200\n",
      "152/152 [==============================] - 1s 5ms/step - loss: 9.8865\n",
      "Epoch 152/200\n",
      "152/152 [==============================] - 1s 6ms/step - loss: 9.8867\n",
      "Epoch 153/200\n",
      "152/152 [==============================] - 1s 6ms/step - loss: 9.8895\n",
      "Epoch 154/200\n",
      "152/152 [==============================] - 1s 7ms/step - loss: 9.8912\n",
      "Epoch 155/200\n",
      "152/152 [==============================] - 1s 6ms/step - loss: 9.8928\n",
      "Epoch 156/200\n",
      "152/152 [==============================] - 1s 9ms/step - loss: 9.8950\n",
      "Epoch 156: early stopping\n"
     ]
    }
   ],
   "source": [
    "\n",
    "from keras.models import Sequential\n",
    "from keras.layers import Dense\n",
    "import keras.backend as K\n",
    "from keras.callbacks import EarlyStopping\n",
    "from keras.optimizers import Adam\n",
    "from keras.models import load_model\n",
    "from keras.layers import LSTM\n",
    "K.clear_session()\n",
    "model_lstm = Sequential()\n",
    "model_lstm.add(LSTM(50, input_shape=(1, X_train.shape[1]), activation='relu', return_sequences=False))\n",
    "# model_lstm.add(LSTM(16))\n",
    "model_lstm.add(Dense(50))\n",
    "model_lstm.add(Dense(1))\n",
    "model_lstm.compile(loss='mean_squared_error', optimizer='adam')\n",
    "early_stop = EarlyStopping(monitor='loss', patience=5, verbose=1)\n",
    "history_model_lstm = model_lstm.fit(X_tr_t, y_train, epochs=200, batch_size=8, verbose=1, shuffle=False, callbacks=[early_stop])"
   ]
  },
  {
   "cell_type": "markdown",
   "metadata": {},
   "source": [
    "# Evaluation of Model"
   ]
  },
  {
   "cell_type": "code",
   "execution_count": 50,
   "metadata": {},
   "outputs": [
    {
     "name": "stdout",
     "output_type": "stream",
     "text": [
      "4/4 [==============================] - 0s 7ms/step\n",
      "38/38 [==============================] - 0s 4ms/step\n",
      "The R2 score on the Train set is:\t0.995\n",
      "The R2 score on the Test set is:\t0.859\n"
     ]
    }
   ],
   "source": [
    "y_pred_test_lstm = model_lstm.predict(X_tst_t)\n",
    "y_train_pred_lstm = model_lstm.predict(X_tr_t)\n",
    "print(\"The R2 score on the Train set is:\\t{:0.3f}\".format(r2_score(y_train, y_train_pred_lstm)))\n",
    "r2_train = r2_score(y_train, y_train_pred_lstm)\n",
    "\n",
    "print(\"The R2 score on the Test set is:\\t{:0.3f}\".format(r2_score(y_test, y_pred_test_lstm)))\n",
    "r2_test = r2_score(y_test, y_pred_test_lstm)\n"
   ]
  },
  {
   "cell_type": "markdown",
   "metadata": {},
   "source": [
    "## Predictions made by LSTM"
   ]
  },
  {
   "cell_type": "code",
   "execution_count": 51,
   "metadata": {},
   "outputs": [
    {
     "name": "stdout",
     "output_type": "stream",
     "text": [
      "121/121 [==============================] - 1s 5ms/step - loss: 54.2766\n"
     ]
    }
   ],
   "source": [
    "score_lstm= model_lstm.evaluate(X_tst_t, y_test, batch_size=1)"
   ]
  },
  {
   "cell_type": "code",
   "execution_count": 52,
   "metadata": {},
   "outputs": [
    {
     "name": "stdout",
     "output_type": "stream",
     "text": [
      "LSTM: 54.276638\n"
     ]
    }
   ],
   "source": [
    "print('LSTM: %f'%score_lstm)"
   ]
  },
  {
   "cell_type": "code",
   "execution_count": 53,
   "metadata": {},
   "outputs": [
    {
     "name": "stdout",
     "output_type": "stream",
     "text": [
      "4/4 [==============================] - 0s 6ms/step\n"
     ]
    }
   ],
   "source": [
    "y_pred_test_LSTM = model_lstm.predict(X_tst_t)"
   ]
  },
  {
   "cell_type": "markdown",
   "metadata": {},
   "source": [
    "# LSTM's Prediction Visual"
   ]
  },
  {
   "cell_type": "code",
   "execution_count": 55,
   "metadata": {},
   "outputs": [
    {
     "data": {
      "image/png": "[encoded data removed]",
      "text/plain": [
       "<Figure size 640x480 with 1 Axes>"
      ]
     },
     "metadata": {},
     "output_type": "display_data"
    }
   ],
   "source": [
    "plt.style.use('ggplot')\n",
    "plt.plot(y_test, label='True')\n",
    "plt.plot(y_pred_test_LSTM, label='LSTM')\n",
    "plt.title(\"LSTM's_Prediction\")\n",
    "plt.xlabel('Observation')\n",
    "plt.ylabel('INR_Scaled')\n",
    "plt.legend()\n",
    "plt.show()\n"
   ]
  },
  {
   "cell_type": "markdown",
   "metadata": {},
   "source": [
    "# Converting Prediction data\n",
    "In this step I have made the prediction of test data and will convert the dataframe to csv so that we can see the price difference between actual and predicted price."
   ]
  },
  {
   "cell_type": "code",
   "execution_count": 30,
   "metadata": {},
   "outputs": [],
   "source": [
    "col1 = pd.DataFrame(y_test, columns=['True'])\n",
    "\n",
    "col2 = pd.DataFrame(y_pred_test_LSTM, columns=['LSTM_prediction'])\n",
    "\n",
    "col3 = pd.DataFrame(history_model_lstm.history['loss'], columns=['Loss_LSTM'])\n",
    "results = pd.concat([col1, col2, col3], axis=1)\n",
    "results.to_excel('PredictionResults_LSTM_NonShift.xlsx')"
   ]
  },
  {
   "cell_type": "markdown",
   "metadata": {},
   "source": [
    "# Conclusion"
   ]
  },
  {
   "cell_type": "markdown",
   "metadata": {},
   "source": [
    "It is impossible to  get a model that can 99% predict the price without any error, there are too many factors can affect the\n",
    "stock prices. So, we cannot hope there is a perfect model, but the general trend of predicted price is in line with the actual data, so the trader could have an indicator to reference, and makes trading decision by himself.\n",
    "\n",
    "\n",
    "Further, we can improve the model's accuracy by increasing the epochs, trying out different activation functions or even change the model's structure. As exact "
   ]
  },
  {
   "cell_type": "code",
   "execution_count": null,
   "metadata": {},
   "outputs": [],
   "source": []
  }
 ],
 "metadata": {
  "kernelspec": {
   "display_name": "Python 3 (ipykernel)",
   "language": "python",
   "name": "python3"
  },
  "language_info": {
   "codemirror_mode": {
    "name": "ipython",
    "version": 3
   },
   "file_extension": ".py",
   "mimetype": "text/x-python",
   "name": "python",
   "nbconvert_exporter": "python",
   "pygments_lexer": "ipython3",
   "version": "3.9.13"
  }
 },
 "nbformat": 4,
 "nbformat_minor": 4
}
