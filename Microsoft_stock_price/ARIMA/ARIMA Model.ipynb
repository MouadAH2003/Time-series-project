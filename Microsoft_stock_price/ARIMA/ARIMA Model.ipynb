{
 "cells": [
  {
   "cell_type": "code",
   "execution_count": null,
   "id": "627b274c",
   "metadata": {},
   "outputs": [],
   "source": []
  },
  {
   "cell_type": "markdown",
   "id": "e67e441b",
   "metadata": {},
   "source": [
    "# Project: clôture des actions de Microsoft \n"
   ]
  },
  {
   "cell_type": "markdown",
   "id": "a693a55e",
   "metadata": {},
   "source": [
    "## Description du Problème :\n",
    " Le problème consiste à prédire les valeurs futures de clôture des actions de Microsoft en se basant sur les données historiques disponibles. Avec un ensemble de données comportant 1426 observations,\n",
    "\n",
    "Le modèle de prédiction sera élaboré en se basant sur les données historiques des actions de Microsoft, couvrant la période allant du 1er mars 2017 jusqu'à la dernière observation disponible en date du 31 août 2022"
   ]
  },
  {
   "cell_type": "code",
   "execution_count": null,
   "id": "50b7f9a5",
   "metadata": {},
   "outputs": [],
   "source": [
    "!pip install statsmodels\n",
    "\n",
    "# Install specific version of the package\n",
    "!pip install statsmodels==0.13.5"
   ]
  },
  {
   "cell_type": "markdown",
   "id": "5b2bc4cb",
   "metadata": {},
   "source": [
    "# Modèle **ARIMA** : Prédiction de la Clôture des Prix de Microsoft\n",
    "\n",
    "Le modèle *AutoRegressive Integrated Moving Average* (ARIMA) est une méthode de prévision largement connue et utilisée pour la prédiction des séries temporelles. Les modèles ARIMA sont capables de capturer différentes structures temporelles standard dans les données de séries temporelles.\n",
    "\n",
    "## Terminologie :\n",
    "Décomposons ces termes :\n",
    "  <ul>\n",
    "    <li>**AR (Auto Régressif) :**</li>\n",
    "      Signifie que le modèle utilise la relation dépendante entre une observation et un nombre prédéfini d'observations retardées (également appelées \"délai\" ou \"lag\").\n",
    "    <li>**I (Intégré):**</li>\n",
    "      Signifie que le modèle utilise la différenciation des observations brutes (par exemple, il soustrait une observation d'une observation au pas de temps précédent) afin de rendre la série temporelle stationnaire.\n",
    "    <li>**MA (Moyenne Mobile):**</li>\n",
    "      Signifie que le modèle exploite la relation entre l'erreur résiduelle et les observations.\n",
    "  </ul>\n",
    "\n",
    "Utilisons ces concepts pour mieux comprendre et prédire la clôture des prix des actions de Microsoft.\n"
   ]
  },
  {
   "cell_type": "markdown",
   "id": "0fb3ac2d",
   "metadata": {},
   "source": [
    "## Paramètres du Modèle :\n",
    "- **p :** Le nombre d'observations de décalage (lag).\n",
    "- **d :** Le degré de différenciation.\n",
    "- **q :** La taille/largeur de la fenêtre de moyenne mobile.\n"
   ]
  },
  {
   "cell_type": "markdown",
   "id": "67aefe15",
   "metadata": {},
   "source": [
    "# 1- Chargement de tous les modules nécessaires"
   ]
  },
  {
   "cell_type": "code",
   "execution_count": 2,
   "id": "a8d430b8",
   "metadata": {},
   "outputs": [],
   "source": [
    "# Basic python libraries\n",
    "import pandas as pd\n",
    "import numpy as np\n",
    "import matplotlib.pyplot as plt\n",
    "\n",
    "# ARIMA-related libraries\n",
    "from statsmodels.tsa.arima.model import ARIMA\n",
    "from statsmodels.graphics.tsaplots import plot_acf, plot_pacf\n",
    "from statsmodels.tsa.stattools import adfuller\n",
    "from statsmodels.graphics.gofplots import  qqplot\n",
    "from statsmodels.tsa.seasonal import  seasonal_decompose\n",
    "from statsmodels.tsa.arima_model import  ARIMA\n",
    "from sklearn.metrics import mean_squared_error"
   ]
  },
  {
   "cell_type": "code",
   "execution_count": 3,
   "id": "3b008bd2",
   "metadata": {},
   "outputs": [],
   "source": [
    "import warnings \n",
    "warnings.filterwarnings('ignore')"
   ]
  },
  {
   "cell_type": "markdown",
   "id": "2122ebad",
   "metadata": {},
   "source": [
    "## 2- Chargement des données\n"
   ]
  },
  {
   "cell_type": "code",
   "execution_count": 4,
   "id": "5309baaa",
   "metadata": {},
   "outputs": [
    {
     "data": {
      "text/plain": [
       "2067"
      ]
     },
     "execution_count": 4,
     "metadata": {},
     "output_type": "execute_result"
    }
   ],
   "source": [
    "\n",
    "data = pd.read_csv('MSFT.csv', index_col='Date', parse_dates=True)\n",
    "data=data.resample(\"D\").mean()\n",
    "data=data.interpolate(method='linear')\n",
    "data.reset_index(inplace=True)\n",
    "\n",
    "len(data)"
   ]
  },
  {
   "cell_type": "markdown",
   "id": "0ef067bf",
   "metadata": {},
   "source": [
    "## 2-1 La valeur cible à prédire sera la valeur de la clôture (Close) du cours de l'action"
   ]
  },
  {
   "cell_type": "code",
   "execution_count": 5,
   "id": "a3def066",
   "metadata": {},
   "outputs": [
    {
     "data": {
      "text/html": [
       "<div>\n",
       "<style scoped>\n",
       "    .dataframe tbody tr th:only-of-type {\n",
       "        vertical-align: middle;\n",
       "    }\n",
       "\n",
       "    .dataframe tbody tr th {\n",
       "        vertical-align: top;\n",
       "    }\n",
       "\n",
       "    .dataframe thead th {\n",
       "        text-align: right;\n",
       "    }\n",
       "</style>\n",
       "<table border=\"1\" class=\"dataframe\">\n",
       "  <thead>\n",
       "    <tr style=\"text-align: right;\">\n",
       "      <th></th>\n",
       "      <th>Date</th>\n",
       "      <th>Close</th>\n",
       "    </tr>\n",
       "  </thead>\n",
       "  <tbody>\n",
       "    <tr>\n",
       "      <th>0</th>\n",
       "      <td>2017-01-03</td>\n",
       "      <td>62.580002</td>\n",
       "    </tr>\n",
       "    <tr>\n",
       "      <th>1</th>\n",
       "      <td>2017-01-04</td>\n",
       "      <td>62.299999</td>\n",
       "    </tr>\n",
       "    <tr>\n",
       "      <th>2</th>\n",
       "      <td>2017-01-05</td>\n",
       "      <td>62.299999</td>\n",
       "    </tr>\n",
       "    <tr>\n",
       "      <th>3</th>\n",
       "      <td>2017-01-06</td>\n",
       "      <td>62.840000</td>\n",
       "    </tr>\n",
       "    <tr>\n",
       "      <th>4</th>\n",
       "      <td>2017-01-07</td>\n",
       "      <td>62.773333</td>\n",
       "    </tr>\n",
       "    <tr>\n",
       "      <th>...</th>\n",
       "      <td>...</td>\n",
       "      <td>...</td>\n",
       "    </tr>\n",
       "    <tr>\n",
       "      <th>2062</th>\n",
       "      <td>2022-08-27</td>\n",
       "      <td>267.136668</td>\n",
       "    </tr>\n",
       "    <tr>\n",
       "      <th>2063</th>\n",
       "      <td>2022-08-28</td>\n",
       "      <td>266.183339</td>\n",
       "    </tr>\n",
       "    <tr>\n",
       "      <th>2064</th>\n",
       "      <td>2022-08-29</td>\n",
       "      <td>265.230011</td>\n",
       "    </tr>\n",
       "    <tr>\n",
       "      <th>2065</th>\n",
       "      <td>2022-08-30</td>\n",
       "      <td>262.970001</td>\n",
       "    </tr>\n",
       "    <tr>\n",
       "      <th>2066</th>\n",
       "      <td>2022-08-31</td>\n",
       "      <td>261.470001</td>\n",
       "    </tr>\n",
       "  </tbody>\n",
       "</table>\n",
       "<p>2067 rows × 2 columns</p>\n",
       "</div>"
      ],
      "text/plain": [
       "           Date       Close\n",
       "0    2017-01-03   62.580002\n",
       "1    2017-01-04   62.299999\n",
       "2    2017-01-05   62.299999\n",
       "3    2017-01-06   62.840000\n",
       "4    2017-01-07   62.773333\n",
       "...         ...         ...\n",
       "2062 2022-08-27  267.136668\n",
       "2063 2022-08-28  266.183339\n",
       "2064 2022-08-29  265.230011\n",
       "2065 2022-08-30  262.970001\n",
       "2066 2022-08-31  261.470001\n",
       "\n",
       "[2067 rows x 2 columns]"
      ]
     },
     "execution_count": 5,
     "metadata": {},
     "output_type": "execute_result"
    }
   ],
   "source": [
    "data = data[['Date', 'Close']]\n",
    "data.to_csv('data.csv', index=False)\n",
    "data"
   ]
  },
  {
   "cell_type": "markdown",
   "id": "1bb63771",
   "metadata": {},
   "source": [
    "# 2-2 Transformer les données en une série temporelle."
   ]
  },
  {
   "cell_type": "code",
   "execution_count": 6,
   "id": "367c2535",
   "metadata": {},
   "outputs": [],
   "source": [
    "def parser(x):\n",
    "     return pd.datetime.strptime(x, '%Y-%m-%d')\n",
    "series =pd.read_csv('data.csv', header=0, parse_dates=[0], index_col=0, squeeze=True, date_parser=parser)\n"
   ]
  },
  {
   "cell_type": "code",
   "execution_count": 7,
   "id": "5a3e67a9",
   "metadata": {},
   "outputs": [
    {
     "data": {
      "text/plain": [
       "Date\n",
       "2017-01-03     62.580002\n",
       "2017-01-04     62.299999\n",
       "2017-01-05     62.299999\n",
       "2017-01-06     62.840000\n",
       "2017-01-07     62.773333\n",
       "                 ...    \n",
       "2022-08-27    267.136668\n",
       "2022-08-28    266.183339\n",
       "2022-08-29    265.230011\n",
       "2022-08-30    262.970001\n",
       "2022-08-31    261.470001\n",
       "Name: Close, Length: 2067, dtype: float64"
      ]
     },
     "execution_count": 7,
     "metadata": {},
     "output_type": "execute_result"
    }
   ],
   "source": [
    "series"
   ]
  },
  {
   "cell_type": "markdown",
   "id": "2aa11a9c",
   "metadata": {},
   "source": [
    "## 3- Preprocessing\n"
   ]
  },
  {
   "cell_type": "markdown",
   "id": "36580e9f",
   "metadata": {},
   "source": [
    "### Afficher les premières lignes de la série temporelle"
   ]
  },
  {
   "cell_type": "code",
   "execution_count": 8,
   "id": "004f42bb",
   "metadata": {},
   "outputs": [
    {
     "data": {
      "text/plain": [
       "Date\n",
       "2017-01-03    62.580002\n",
       "2017-01-04    62.299999\n",
       "2017-01-05    62.299999\n",
       "2017-01-06    62.840000\n",
       "2017-01-07    62.773333\n",
       "Name: Close, dtype: float64"
      ]
     },
     "execution_count": 8,
     "metadata": {},
     "output_type": "execute_result"
    }
   ],
   "source": [
    "series.head()"
   ]
  },
  {
   "cell_type": "markdown",
   "id": "947dece1",
   "metadata": {},
   "source": [
    "### Afficher les dix dernières lignes de la série temporelle"
   ]
  },
  {
   "cell_type": "code",
   "execution_count": 9,
   "id": "4c5c97ae",
   "metadata": {},
   "outputs": [
    {
     "data": {
      "text/plain": [
       "Date\n",
       "2022-08-22    277.750000\n",
       "2022-08-23    276.440002\n",
       "2022-08-24    275.790009\n",
       "2022-08-25    278.850006\n",
       "2022-08-26    268.089996\n",
       "2022-08-27    267.136668\n",
       "2022-08-28    266.183339\n",
       "2022-08-29    265.230011\n",
       "2022-08-30    262.970001\n",
       "2022-08-31    261.470001\n",
       "Name: Close, dtype: float64"
      ]
     },
     "execution_count": 9,
     "metadata": {},
     "output_type": "execute_result"
    }
   ],
   "source": [
    "series.tail(10)"
   ]
  },
  {
   "cell_type": "markdown",
   "id": "0ea8a1cd",
   "metadata": {},
   "source": [
    "###  Obtenir des informations sur la série temporelle"
   ]
  },
  {
   "cell_type": "code",
   "execution_count": 10,
   "id": "5364fee7",
   "metadata": {},
   "outputs": [
    {
     "name": "stdout",
     "output_type": "stream",
     "text": [
      "<class 'pandas.core.series.Series'>\n",
      "DatetimeIndex: 2067 entries, 2017-01-03 to 2022-08-31\n",
      "Series name: Close\n",
      "Non-Null Count  Dtype  \n",
      "--------------  -----  \n",
      "2067 non-null   float64\n",
      "dtypes: float64(1)\n",
      "memory usage: 32.3 KB\n"
     ]
    }
   ],
   "source": [
    "series.info()"
   ]
  },
  {
   "cell_type": "markdown",
   "id": "84e1009a",
   "metadata": {},
   "source": [
    "### Vérifier les valeurs manquantes dans la série temporelle"
   ]
  },
  {
   "cell_type": "code",
   "execution_count": 11,
   "id": "fd6e159f",
   "metadata": {},
   "outputs": [
    {
     "data": {
      "text/plain": [
       "0"
      ]
     },
     "execution_count": 11,
     "metadata": {},
     "output_type": "execute_result"
    }
   ],
   "source": [
    "series.isnull().sum()"
   ]
  },
  {
   "cell_type": "markdown",
   "id": "06602d54",
   "metadata": {},
   "source": [
    "### Remplir les valeurs manquantes"
   ]
  },
  {
   "cell_type": "code",
   "execution_count": 12,
   "id": "0c597ce3",
   "metadata": {},
   "outputs": [
    {
     "name": "stdout",
     "output_type": "stream",
     "text": [
      "pas de valeur null dans la datasets \n"
     ]
    }
   ],
   "source": [
    "# fill missing values (if any)\n",
    "series.fillna(method='ffill', inplace=True)\n",
    "print(\"pas de valeur null dans la datasets \")"
   ]
  },
  {
   "cell_type": "markdown",
   "id": "015de1ad",
   "metadata": {},
   "source": [
    "# 4- Data analysis"
   ]
  },
  {
   "cell_type": "markdown",
   "id": "74315290",
   "metadata": {},
   "source": [
    "### Afficher des statistiques descriptives pour la série temporelle"
   ]
  },
  {
   "cell_type": "code",
   "execution_count": 13,
   "id": "e9da58a7",
   "metadata": {},
   "outputs": [
    {
     "data": {
      "text/plain": [
       "count    2067.000000\n",
       "mean      169.499898\n",
       "std        82.421583\n",
       "min        62.299999\n",
       "25%        98.334999\n",
       "50%       141.883331\n",
       "75%       244.026253\n",
       "max       343.109985\n",
       "Name: Close, dtype: float64"
      ]
     },
     "execution_count": 13,
     "metadata": {},
     "output_type": "execute_result"
    }
   ],
   "source": [
    "series.describe().T"
   ]
  },
  {
   "cell_type": "markdown",
   "id": "4dbb4aa5",
   "metadata": {},
   "source": [
    "- **count (effectif) :** Il y a un total de 2067 observations dans l'ensemble de données, indiquant le nombre total de mesures de clôture des actions.\n",
    "\n",
    "- **mean (moyenne) :** La valeur moyenne des clôtures est d'environ 169.50. Cela donne une indication de la valeur moyenne des actions sur la période, suggérant un niveau moyen de prix de clôture.\n",
    "\n",
    "- **std (écart type) :** L'écart type est d'environ 82.42, indiquant la dispersion ou la variabilité des valeurs de clôture par rapport à la moyenne. Un écart type plus élevé suggère une plus grande variabilité.\n",
    "\n",
    "- **min (minimum) :** La valeur minimale des clôtures est d'environ 62.30, représentant le prix de clôture le plus bas observé dans l'ensemble de données.\n",
    "\n",
    "- **25% (premier quartile) :** 25% des observations de clôture sont inférieures à 98.33. Cela donne une indication de la distribution des valeurs de clôture dans la partie inférieure de l'ensemble de données.\n",
    "\n",
    "- **50% (deuxième quartile ou médiane) :** La médiane est d'environ 141.88, indiquant que la moitié des observations de clôture sont inférieures à cette valeur, et l'autre moitié est supérieure.\n",
    "\n",
    "- **75% (troisième quartile) :** 75% des observations de clôture sont inférieures à 244.03. Cela donne une indication de la distribution des valeurs de clôture dans la partie supérieure de l'ensemble de données.\n",
    "\n",
    "- **max (maximum) :** La valeur maximale des clôtures est d'environ 343.11, représentant le prix de clôture le plus élevé observé dans l'ensemble de données.\n"
   ]
  },
  {
   "cell_type": "markdown",
   "id": "3467eff1",
   "metadata": {},
   "source": [
    "### Tracer la série temporelle"
   ]
  },
  {
   "cell_type": "code",
   "execution_count": 15,
   "id": "58da4062",
   "metadata": {},
   "outputs": [
    {
     "data": {
      "image/png": "[encoded data removed]",
      "text/plain": [
       "<Figure size 640x480 with 1 Axes>"
      ]
     },
     "metadata": {},
     "output_type": "display_data"
    }
   ],
   "source": [
    "plt.plot(series)\n",
    "plt.title('clôture des actions de Microsoft ')\n",
    "plt.xlabel('Time')\n",
    "plt.ylabel('close')\n",
    "plt.show()"
   ]
  },
  {
   "cell_type": "markdown",
   "id": "2fdd4927",
   "metadata": {},
   "source": [
    "# Trend:\n",
    "-------------\n",
    "Le jeu de données présente une tendance croissante au fil des années pour les valeurs de clôture des actions de Microsoft\n"
   ]
  },
  {
   "cell_type": "markdown",
   "id": "f2316092",
   "metadata": {},
   "source": [
    "# Saisonnalité\n",
    "------------\n",
    "Le jeu de données présente une composante saisonnière au fil des années."
   ]
  },
  {
   "cell_type": "markdown",
   "id": "bf514aa8",
   "metadata": {},
   "source": [
    "# Stationnarité?\n",
    "-------------\n",
    "Étant donné la présence du trend et de la saisonnalité, la série temporelle n'est probablement pas stationnaire."
   ]
  },
  {
   "cell_type": "markdown",
   "id": "389332ea",
   "metadata": {},
   "source": [
    "## Tracé de l'histogramme\n",
    "------"
   ]
  },
  {
   "cell_type": "code",
   "execution_count": 16,
   "id": "f58e4262",
   "metadata": {},
   "outputs": [
    {
     "data": {
      "image/png": "[encoded data removed]",
      "text/plain": [
       "<Figure size 640x480 with 1 Axes>"
      ]
     },
     "metadata": {},
     "output_type": "display_data"
    }
   ],
   "source": [
    "series.hist()\n",
    "\n",
    "plt.show()"
   ]
  },
  {
   "cell_type": "markdown",
   "id": "88b2e72d",
   "metadata": {},
   "source": [
    "### Création d'un graphique de densité"
   ]
  },
  {
   "cell_type": "code",
   "execution_count": 15,
   "id": "15a85053",
   "metadata": {},
   "outputs": [
    {
     "data": {
      "image/png": "[encoded data removed]",
      "text/plain": [
       "<Figure size 640x480 with 1 Axes>"
      ]
     },
     "metadata": {},
     "output_type": "display_data"
    }
   ],
   "source": [
    "series.plot(kind='kde')\n",
    "plt.show()"
   ]
  },
  {
   "cell_type": "code",
   "execution_count": 16,
   "id": "47fff395",
   "metadata": {},
   "outputs": [],
   "source": [
    "def parser(x):\n",
    "     return pd.datetime.strptime(x, '%Y-%m-%d')\n",
    "series =pd.read_csv('data.csv', header=0, parse_dates=[0], index_col=0, squeeze=True, date_parser=parser)"
   ]
  },
  {
   "cell_type": "code",
   "execution_count": null,
   "id": "6eca9094",
   "metadata": {},
   "outputs": [],
   "source": []
  },
  {
   "cell_type": "markdown",
   "id": "5b70f1a1",
   "metadata": {},
   "source": [
    "### Calculer les différences entre la moyenne de l'année en cours et la moyenne de l'année précédente"
   ]
  },
  {
   "cell_type": "code",
   "execution_count": 17,
   "id": "89394b73",
   "metadata": {},
   "outputs": [],
   "source": [
    "X = series.values\n",
    "diff = list()\n",
    "years_in_data = len(X)\n",
    "\n",
    "for i in range(1, years_in_data):\n",
    "    value = X[i] - X[i - 1]\n",
    "    diff.append(value)\n"
   ]
  },
  {
   "cell_type": "code",
   "execution_count": 18,
   "id": "1ee3ca72",
   "metadata": {},
   "outputs": [
    {
     "data": {
      "text/plain": [
       "Date\n",
       "2017-01-03     62.580002\n",
       "2017-01-04     62.299999\n",
       "2017-01-05     62.299999\n",
       "2017-01-06     62.840000\n",
       "2017-01-07     62.773333\n",
       "                 ...    \n",
       "2022-08-27    267.136668\n",
       "2022-08-28    266.183339\n",
       "2022-08-29    265.230011\n",
       "2022-08-30    262.970001\n",
       "2022-08-31    261.470001\n",
       "Name: Close, Length: 2067, dtype: float64"
      ]
     },
     "execution_count": 18,
     "metadata": {},
     "output_type": "execute_result"
    }
   ],
   "source": [
    "series"
   ]
  },
  {
   "cell_type": "markdown",
   "id": "7f5cf3bf",
   "metadata": {},
   "source": [
    "### Tracer les différences"
   ]
  },
  {
   "cell_type": "code",
   "execution_count": 19,
   "id": "e0a8d9f5",
   "metadata": {},
   "outputs": [
    {
     "data": {
      "image/png": "[encoded data removed]",
      "text/plain": [
       "<Figure size 640x480 with 1 Axes>"
      ]
     },
     "metadata": {},
     "output_type": "display_data"
    }
   ],
   "source": [
    "plt.plot(diff)\n",
    "plt.title('Yearly Differences in Microsoft Stock Prediction (Current year mean - Previous year mean)')\n",
    "plt.xlabel('Years')\n",
    "plt.ylabel('Price Difference')\n",
    "plt.show()"
   ]
  },
  {
   "cell_type": "code",
   "execution_count": 20,
   "id": "82341846",
   "metadata": {},
   "outputs": [
    {
     "data": {
      "text/plain": [
       "Date\n",
       "2022-08-27    267.136668\n",
       "2022-08-28    266.183339\n",
       "2022-08-29    265.230011\n",
       "2022-08-30    262.970001\n",
       "2022-08-31    261.470001\n",
       "Name: Close, dtype: float64"
      ]
     },
     "execution_count": 20,
     "metadata": {},
     "output_type": "execute_result"
    }
   ],
   "source": [
    "series.tail()"
   ]
  },
  {
   "cell_type": "markdown",
   "id": "7521c313",
   "metadata": {},
   "source": [
    "# Box and Whisker Plots by Interval\n",
    "------\n"
   ]
  },
  {
   "cell_type": "markdown",
   "id": "12c38dc8",
   "metadata": {},
   "source": [
    "### Créer des groupes par mois pour les années 2017 à 2021"
   ]
  },
  {
   "cell_type": "code",
   "execution_count": 21,
   "id": "8cadee3e",
   "metadata": {},
   "outputs": [],
   "source": [
    "groups = series[\"2017\":\"2021\"].resample('M').mean()\n",
    "years = pd.DataFrame()\n",
    "for name, group in groups.groupby(groups.index.year):\n",
    "    years[name] = group.values.tolist()"
   ]
  },
  {
   "cell_type": "markdown",
   "id": "e08e06dd",
   "metadata": {},
   "source": [
    "### Boxplot"
   ]
  },
  {
   "cell_type": "code",
   "execution_count": 22,
   "id": "160731bd",
   "metadata": {},
   "outputs": [
    {
     "data": {
      "image/png": "[encoded data removed]",
      "text/plain": [
       "<Figure size 640x480 with 1 Axes>"
      ]
     },
     "metadata": {},
     "output_type": "display_data"
    }
   ],
   "source": [
    "years.boxplot()\n",
    "plt.title('Monthly Boxplot of Microsoft Stock Predictions (2017-2021)')\n",
    "plt.xlabel('Year')\n",
    "plt.ylabel('close')\n",
    "plt.show()"
   ]
  },
  {
   "cell_type": "markdown",
   "id": "1db8b9f0",
   "metadata": {},
   "source": [
    "### Créer des groupes par année pour l'année 2022"
   ]
  },
  {
   "cell_type": "code",
   "execution_count": 17,
   "id": "241aced6",
   "metadata": {},
   "outputs": [
    {
     "data": {
      "image/png": "[encoded data removed]",
      "text/plain": [
       "<Figure size 640x480 with 1 Axes>"
      ]
     },
     "metadata": {},
     "output_type": "display_data"
    }
   ],
   "source": [
    "groups = series['2022'].groupby(pd.Grouper(freq='A'))\n",
    "years = pd.DataFrame()\n",
    "for name, group in groups:\n",
    "    years[name.year] = group.values\n",
    "years.boxplot()\n",
    "plt.title('Monthly Boxplot of Microsoft Stock Predictions (2022)')\n",
    "plt.xlabel('Year')\n",
    "plt.ylabel('close')\n",
    "plt.show()\n"
   ]
  },
  {
   "cell_type": "code",
   "execution_count": null,
   "id": "49a6714e",
   "metadata": {},
   "outputs": [],
   "source": []
  },
  {
   "cell_type": "markdown",
   "id": "aab42002",
   "metadata": {},
   "source": [
    "------\n",
    "# Modèles ARIMA\n",
    "-------"
   ]
  },
  {
   "cell_type": "markdown",
   "id": "164db2f7",
   "metadata": {},
   "source": [
    "### Test ADF (Augmented Dickey-Fuller)\n"
   ]
  },
  {
   "cell_type": "code",
   "execution_count": 24,
   "id": "dfad2f39",
   "metadata": {},
   "outputs": [
    {
     "name": "stdout",
     "output_type": "stream",
     "text": [
      "ADF Statistic: -0.743070\n",
      "p-value: 0.835276\n",
      "Critical Values:\n",
      "\t1%: -3.434\n",
      "\t5%: -2.863\n",
      "\t10%: -2.568\n"
     ]
    }
   ],
   "source": [
    "# Drop any NaN values resulting fromdifferencing\n",
    "series = series.dropna()\n",
    "\n",
    "# Check for infinite values\n",
    "if not np.isfinite(series).all():\n",
    "    print(\"Data contains infinite values. Please handle them before running the ADF test.\")\n",
    "else:\n",
    "    result = adfuller(series)\n",
    "\n",
    "    print('ADF Statistic: %f' % result[0])\n",
    "    print('p-value: %f' % result[1])\n",
    "    print('Critical Values:')\n",
    "    for key, value in result[4].items():\n",
    "        print('\\t%s: %.3f' % (key, value))"
   ]
  },
  {
   "cell_type": "markdown",
   "id": "54b581c5",
   "metadata": {},
   "source": [
    "### Différenciation"
   ]
  },
  {
   "cell_type": "code",
   "execution_count": 25,
   "id": "b400fce7",
   "metadata": {},
   "outputs": [],
   "source": [
    "# Convertir les valeurs en numériques\n",
    "series = pd.to_numeric(series, errors='coerce')\n",
    "\n",
    "X = series.values\n",
    "\n",
    "# Première différenciation\n",
    "def difference(data):\n",
    "    L = list()\n",
    "    for i in range(1, len(data)):\n",
    "        value = data[i] - data[i - 1]\n",
    "        L.append(value)\n",
    "    return pd.Series(L)\n",
    "\n",
    "series = difference(X)"
   ]
  },
  {
   "cell_type": "markdown",
   "id": "f583ecc2",
   "metadata": {},
   "source": [
    "# interpretation\n",
    "------\n",
    "compte tenu de la statistique ADF très négative et de la valeur p très faible, et la statistique ADF étant plus négative que les valeurs critiques, vous disposez de preuves solides pour rejeter l'hypothèse nulle. Par conséquent, la série temporelle différenciée est probablement stationnaire."
   ]
  },
  {
   "cell_type": "code",
   "execution_count": 26,
   "id": "f3bca66f",
   "metadata": {},
   "outputs": [
    {
     "data": {
      "text/plain": [
       "<Figure size 1800x800 with 0 Axes>"
      ]
     },
     "metadata": {},
     "output_type": "display_data"
    },
    {
     "data": {
      "image/png": "[encoded data removed]",
      "text/plain": [
       "<Figure size 640x480 with 1 Axes>"
      ]
     },
     "metadata": {},
     "output_type": "display_data"
    }
   ],
   "source": [
    "plt.figure(figsize=(18, 8))\n",
    "plot_acf(series, lags=25)\n",
    "plt.show()"
   ]
  },
  {
   "cell_type": "code",
   "execution_count": null,
   "id": "52d28cdc",
   "metadata": {},
   "outputs": [],
   "source": [
    "# Plot PACF with a larger number of lags\n",
    "plot_pacf(series, lags=25)\n",
    "plt.show()"
   ]
  },
  {
   "cell_type": "code",
   "execution_count": 27,
   "id": "17138995",
   "metadata": {},
   "outputs": [
    {
     "data": {
      "text/plain": [
       "2066"
      ]
     },
     "execution_count": 27,
     "metadata": {},
     "output_type": "execute_result"
    }
   ],
   "source": [
    "len(series)"
   ]
  },
  {
   "cell_type": "markdown",
   "id": "8c9631e6",
   "metadata": {},
   "source": [
    "# Choix Aléatoire des Paramètres ARIMA\n"
   ]
  },
  {
   "cell_type": "code",
   "execution_count": 19,
   "id": "c46635ae",
   "metadata": {},
   "outputs": [
    {
     "name": "stdout",
     "output_type": "stream",
     "text": [
      "                               SARIMAX Results                                \n",
      "==============================================================================\n",
      "Dep. Variable:                  Close   No. Observations:                 2067\n",
      "Model:                ARIMA(11, 1, 3)   Log Likelihood               -4887.197\n",
      "Date:                Sun, 28 Jan 2024   AIC                           9804.394\n",
      "Time:                        21:48:36   BIC                           9888.894\n",
      "Sample:                    01-03-2017   HQIC                          9835.370\n",
      "                         - 08-31-2022                                         \n",
      "Covariance Type:                  opg                                         \n",
      "==============================================================================\n",
      "                 coef    std err          z      P>|z|      [0.025      0.975]\n",
      "------------------------------------------------------------------------------\n",
      "ar.L1          0.1023      0.093      1.098      0.272      -0.080       0.285\n",
      "ar.L2         -0.1679      0.079     -2.134      0.033      -0.322      -0.014\n",
      "ar.L3         -0.7454      0.081     -9.215      0.000      -0.904      -0.587\n",
      "ar.L4         -0.0239      0.020     -1.176      0.240      -0.064       0.016\n",
      "ar.L5         -0.0477      0.019     -2.521      0.012      -0.085      -0.011\n",
      "ar.L6          0.0515      0.019      2.690      0.007       0.014       0.089\n",
      "ar.L7          0.0197      0.019      1.060      0.289      -0.017       0.056\n",
      "ar.L8         -0.0904      0.018     -5.050      0.000      -0.125      -0.055\n",
      "ar.L9          0.0407      0.019      2.159      0.031       0.004       0.078\n",
      "ar.L10        -0.0422      0.018     -2.289      0.022      -0.078      -0.006\n",
      "ar.L11         0.0047      0.021      0.224      0.823      -0.037       0.046\n",
      "ma.L1         -0.1642      0.091     -1.809      0.070      -0.342       0.014\n",
      "ma.L2          0.1912      0.083      2.314      0.021       0.029       0.353\n",
      "ma.L3          0.7595      0.086      8.792      0.000       0.590       0.929\n",
      "sigma2         6.5969      0.103     64.001      0.000       6.395       6.799\n",
      "===================================================================================\n",
      "Ljung-Box (L1) (Q):                   0.02   Jarque-Bera (JB):              5534.49\n",
      "Prob(Q):                              0.89   Prob(JB):                         0.00\n",
      "Heteroskedasticity (H):              13.58   Skew:                            -0.16\n",
      "Prob(H) (two-sided):                  0.00   Kurtosis:                        11.01\n",
      "===================================================================================\n",
      "\n",
      "Warnings:\n",
      "[1] Covariance matrix calculated using the outer product of gradients (complex-step).\n"
     ]
    },
    {
     "data": {
      "image/png": "[encoded data removed]",
      "text/plain": [
       "<Figure size 640x480 with 1 Axes>"
      ]
     },
     "metadata": {},
     "output_type": "display_data"
    },
    {
     "data": {
      "image/png": "[encoded data removed]",
      "text/plain": [
       "<Figure size 640x480 with 1 Axes>"
      ]
     },
     "metadata": {},
     "output_type": "display_data"
    },
    {
     "name": "stdout",
     "output_type": "stream",
     "text": [
      "                 0\n",
      "count  2067.000000\n",
      "mean      0.132674\n",
      "std       2.918498\n",
      "min     -14.885466\n",
      "25%      -0.617940\n",
      "50%       0.064189\n",
      "75%       0.883008\n",
      "max      62.580002\n"
     ]
    }
   ],
   "source": [
    "from statsmodels.tsa.arima.model import ARIMA\n",
    "# fit the ARIMA model\n",
    "model = ARIMA(series, order=(11, 1, 3))\n",
    "model_fit = model.fit()\n",
    "\n",
    "# print summary\n",
    "print(model_fit.summary())\n",
    "\n",
    "# plot residual errors\n",
    "residuals = pd.DataFrame(model_fit.resid)\n",
    "residuals.plot()\n",
    "plt.show()\n",
    "residuals.plot(kind='kde')\n",
    "plt.show()\n",
    "print(residuals.describe())"
   ]
  },
  {
   "cell_type": "code",
   "execution_count": 20,
   "id": "5e69dc03",
   "metadata": {},
   "outputs": [
    {
     "data": {
      "text/html": [
       "<div>\n",
       "<style scoped>\n",
       "    .dataframe tbody tr th:only-of-type {\n",
       "        vertical-align: middle;\n",
       "    }\n",
       "\n",
       "    .dataframe tbody tr th {\n",
       "        vertical-align: top;\n",
       "    }\n",
       "\n",
       "    .dataframe thead th {\n",
       "        text-align: right;\n",
       "    }\n",
       "</style>\n",
       "<table border=\"1\" class=\"dataframe\">\n",
       "  <thead>\n",
       "    <tr style=\"text-align: right;\">\n",
       "      <th></th>\n",
       "      <th>Date</th>\n",
       "      <th>close</th>\n",
       "    </tr>\n",
       "  </thead>\n",
       "  <tbody>\n",
       "    <tr>\n",
       "      <th>2022-09-01</th>\n",
       "      <td>2022-09-01</td>\n",
       "      <td>261.385185</td>\n",
       "    </tr>\n",
       "    <tr>\n",
       "      <th>2022-09-02</th>\n",
       "      <td>2022-09-02</td>\n",
       "      <td>261.119288</td>\n",
       "    </tr>\n",
       "    <tr>\n",
       "      <th>2022-09-03</th>\n",
       "      <td>2022-09-03</td>\n",
       "      <td>261.663204</td>\n",
       "    </tr>\n",
       "    <tr>\n",
       "      <th>2022-09-04</th>\n",
       "      <td>2022-09-04</td>\n",
       "      <td>261.418896</td>\n",
       "    </tr>\n",
       "    <tr>\n",
       "      <th>2022-09-05</th>\n",
       "      <td>2022-09-05</td>\n",
       "      <td>261.955658</td>\n",
       "    </tr>\n",
       "    <tr>\n",
       "      <th>2022-09-06</th>\n",
       "      <td>2022-09-06</td>\n",
       "      <td>261.571459</td>\n",
       "    </tr>\n",
       "    <tr>\n",
       "      <th>2022-09-07</th>\n",
       "      <td>2022-09-07</td>\n",
       "      <td>261.791112</td>\n",
       "    </tr>\n",
       "    <tr>\n",
       "      <th>2022-09-08</th>\n",
       "      <td>2022-09-08</td>\n",
       "      <td>261.521945</td>\n",
       "    </tr>\n",
       "    <tr>\n",
       "      <th>2022-09-09</th>\n",
       "      <td>2022-09-09</td>\n",
       "      <td>261.803131</td>\n",
       "    </tr>\n",
       "    <tr>\n",
       "      <th>2022-09-10</th>\n",
       "      <td>2022-09-10</td>\n",
       "      <td>261.768311</td>\n",
       "    </tr>\n",
       "  </tbody>\n",
       "</table>\n",
       "</div>"
      ],
      "text/plain": [
       "                 Date       close\n",
       "2022-09-01 2022-09-01  261.385185\n",
       "2022-09-02 2022-09-02  261.119288\n",
       "2022-09-03 2022-09-03  261.663204\n",
       "2022-09-04 2022-09-04  261.418896\n",
       "2022-09-05 2022-09-05  261.955658\n",
       "2022-09-06 2022-09-06  261.571459\n",
       "2022-09-07 2022-09-07  261.791112\n",
       "2022-09-08 2022-09-08  261.521945\n",
       "2022-09-09 2022-09-09  261.803131\n",
       "2022-09-10 2022-09-10  261.768311"
      ]
     },
     "execution_count": 20,
     "metadata": {},
     "output_type": "execute_result"
    }
   ],
   "source": [
    "# Specify the start date for the forecast\n",
    "start_date = '2022-09-01'  # Choose the date after March 8, 2022\n",
    "\n",
    "# Generate date indices for the forecast\n",
    "forecast_dates = pd.date_range(start=start_date, periods=10, freq='D')  # Adjust the frequency as needed\n",
    "\n",
    "# Forecast future values\n",
    "future_values = model_fit.forecast(steps=10)\n",
    "forecast_df = pd.DataFrame({'Date': forecast_dates, 'close': future_values})\n",
    "\n",
    "# Display the forecast DataFrame\n",
    "forecast_df\n"
   ]
  },
  {
   "cell_type": "code",
   "execution_count": 31,
   "id": "8e8de109",
   "metadata": {},
   "outputs": [
    {
     "data": {
      "image/png": "[encoded data removed]",
      "text/plain": [
       "<Figure size 640x480 with 1 Axes>"
      ]
     },
     "metadata": {},
     "output_type": "display_data"
    }
   ],
   "source": [
    "plt.plot(forecast_df['Date'], forecast_df['Forecast'], marker='o')\n",
    "plt.title('Forecasted Values : 2022-09')\n",
    "plt.xlabel('Date')\n",
    "plt.ylabel('Price')\n",
    "plt.xticks(forecast_df['Date'], [date.strftime('%d-%m') for date in forecast_df['Date']], rotation=45, ha='right')\n",
    "plt.show()"
   ]
  },
  {
   "cell_type": "code",
   "execution_count": 32,
   "id": "bdfb1c2f",
   "metadata": {},
   "outputs": [
    {
     "data": {
      "text/plain": [
       "2061   -0.953328\n",
       "2062   -0.953328\n",
       "2063   -0.953328\n",
       "2064   -2.260010\n",
       "2065   -1.500000\n",
       "dtype: float64"
      ]
     },
     "execution_count": 32,
     "metadata": {},
     "output_type": "execute_result"
    }
   ],
   "source": [
    "series.tail()"
   ]
  },
  {
   "cell_type": "markdown",
   "id": "777b8691",
   "metadata": {},
   "source": [
    "### 1. Developing a manually configured ARIMA model."
   ]
  },
  {
   "cell_type": "markdown",
   "id": "e6cb3a3b",
   "metadata": {},
   "source": [
    "### Model 1 "
   ]
  },
  {
   "cell_type": "code",
   "execution_count": 33,
   "id": "1f589480",
   "metadata": {
    "scrolled": false
   },
   "outputs": [
    {
     "name": "stdout",
     "output_type": "stream",
     "text": [
      ">Predicted=-0.263, Expected=1.530\n",
      ">Predicted=-0.043, Expected=-1.480\n",
      ">Predicted=0.229, Expected=-0.280\n",
      ">Predicted=0.688, Expected=-1.247\n",
      ">Predicted=0.117, Expected=-1.247\n",
      ">Predicted=0.134, Expected=-1.247\n",
      ">Predicted=0.495, Expected=2.310\n",
      ">Predicted=-0.704, Expected=2.080\n",
      ">Predicted=0.144, Expected=4.740\n",
      ">Predicted=-0.671, Expected=3.530\n",
      ">Predicted=0.250, Expected=-0.207\n",
      ">Predicted=0.173, Expected=-0.207\n",
      ">Predicted=0.412, Expected=-0.207\n",
      ">Predicted=0.409, Expected=-2.510\n",
      ">Predicted=-0.271, Expected=-0.320\n",
      ">Predicted=0.434, Expected=0.280\n",
      ">Predicted=-0.639, Expected=-1.590\n",
      ">Predicted=0.422, Expected=-0.030\n",
      ">Predicted=0.052, Expected=-0.030\n",
      ">Predicted=0.288, Expected=-0.030\n",
      ">Predicted=0.257, Expected=2.300\n",
      ">Predicted=-0.169, Expected=-0.610\n",
      ">Predicted=0.529, Expected=3.010\n",
      ">Predicted=-0.349, Expected=-0.060\n",
      ">Predicted=0.387, Expected=-0.377\n",
      ">Predicted=0.189, Expected=-0.377\n",
      ">Predicted=0.216, Expected=-0.377\n",
      ">Predicted=0.187, Expected=-1.890\n",
      ">Predicted=0.082, Expected=0.510\n",
      ">Predicted=0.219, Expected=2.860\n",
      ">Predicted=-0.471, Expected=3.040\n",
      ">Predicted=-0.074, Expected=0.583\n",
      ">Predicted=-0.008, Expected=0.583\n",
      ">Predicted=0.579, Expected=0.583\n",
      ">Predicted=-0.105, Expected=-1.520\n",
      ">Predicted=0.470, Expected=-2.350\n",
      ">Predicted=0.237, Expected=6.040\n",
      ">Predicted=-0.638, Expected=7.590\n",
      ">Predicted=-0.965, Expected=0.097\n",
      ">Predicted=-0.046, Expected=0.097\n",
      ">Predicted=0.740, Expected=0.097\n",
      ">Predicted=0.116, Expected=-2.030\n",
      ">Predicted=0.165, Expected=-0.610\n",
      ">Predicted=0.247, Expected=-2.920\n",
      ">Predicted=-0.001, Expected=0.630\n",
      ">Predicted=-0.090, Expected=1.290\n",
      ">Predicted=-0.196, Expected=1.290\n",
      ">Predicted=0.259, Expected=1.290\n",
      ">Predicted=0.090, Expected=-1.710\n",
      ">Predicted=0.416, Expected=-0.050\n",
      ">Predicted=0.453, Expected=-0.680\n",
      ">Predicted=0.038, Expected=-0.010\n",
      ">Predicted=0.185, Expected=-0.240\n",
      ">Predicted=0.110, Expected=-0.240\n",
      ">Predicted=0.011, Expected=-0.240\n",
      ">Predicted=0.458, Expected=-0.240\n",
      ">Predicted=-0.047, Expected=0.030\n",
      ">Predicted=0.448, Expected=-2.960\n",
      ">Predicted=0.330, Expected=-1.540\n",
      ">Predicted=0.340, Expected=0.427\n",
      ">Predicted=0.331, Expected=0.427\n",
      ">Predicted=-0.331, Expected=0.427\n",
      ">Predicted=0.570, Expected=2.800\n",
      ">Predicted=-0.311, Expected=5.030\n",
      ">Predicted=-0.099, Expected=0.400\n",
      ">Predicted=0.137, Expected=-5.350\n",
      ">Predicted=0.731, Expected=-1.857\n",
      ">Predicted=0.737, Expected=-1.857\n",
      ">Predicted=-0.380, Expected=-1.857\n",
      ">Predicted=0.445, Expected=0.500\n",
      ">Predicted=-0.126, Expected=3.780\n",
      ">Predicted=-0.092, Expected=0.980\n",
      ">Predicted=0.147, Expected=-0.210\n",
      ">Predicted=0.393, Expected=-1.727\n",
      ">Predicted=0.766, Expected=-1.727\n",
      ">Predicted=-0.064, Expected=-1.727\n",
      ">Predicted=0.404, Expected=-10.650\n",
      ">Predicted=0.940, Expected=0.480\n",
      ">Predicted=0.150, Expected=-2.080\n",
      ">Predicted=0.381, Expected=7.180\n",
      ">Predicted=-0.731, Expected=-1.997\n",
      ">Predicted=1.150, Expected=-1.997\n",
      ">Predicted=0.356, Expected=-1.997\n",
      ">Predicted=0.858, Expected=5.650\n",
      ">Predicted=-0.519, Expected=4.350\n",
      ">Predicted=-0.706, Expected=1.740\n",
      ">Predicted=0.352, Expected=0.000\n",
      ">Predicted=-0.580, Expected=-0.207\n",
      ">Predicted=1.261, Expected=-0.207\n",
      ">Predicted=-1.152, Expected=-0.207\n",
      ">Predicted=1.196, Expected=-1.350\n",
      ">Predicted=-1.009, Expected=3.430\n",
      ">Predicted=0.333, Expected=6.440\n",
      ">Predicted=-0.644, Expected=1.460\n",
      ">Predicted=-0.207, Expected=1.027\n",
      ">Predicted=0.698, Expected=1.027\n",
      ">Predicted=-0.538, Expected=1.027\n",
      ">Predicted=0.407, Expected=0.940\n",
      ">Predicted=-0.577, Expected=-0.820\n",
      ">Predicted=0.244, Expected=3.350\n",
      ">Predicted=-0.203, Expected=-1.600\n",
      ">Predicted=-0.085, Expected=-0.343\n",
      ">Predicted=0.663, Expected=-0.343\n",
      ">Predicted=-0.182, Expected=-0.343\n",
      ">Predicted=0.335, Expected=1.980\n",
      ">Predicted=-0.124, Expected=13.060\n",
      ">Predicted=-0.989, Expected=1.180\n",
      ">Predicted=0.048, Expected=7.270\n",
      ">Predicted=-0.508, Expected=-0.750\n",
      ">Predicted=0.674, Expected=-0.750\n",
      ">Predicted=-0.346, Expected=-0.750\n",
      ">Predicted=-0.125, Expected=3.760\n",
      ">Predicted=-0.163, Expected=0.870\n",
      ">Predicted=-0.702, Expected=2.440\n",
      ">Predicted=0.693, Expected=-0.380\n",
      ">Predicted=-0.193, Expected=0.310\n",
      ">Predicted=0.755, Expected=0.310\n",
      ">Predicted=-0.519, Expected=0.310\n",
      ">Predicted=0.743, Expected=-1.040\n",
      ">Predicted=-0.421, Expected=-5.150\n",
      ">Predicted=1.045, Expected=1.630\n",
      ">Predicted=-0.159, Expected=4.290\n",
      ">Predicted=-0.163, Expected=-0.217\n",
      ">Predicted=0.222, Expected=-0.217\n",
      ">Predicted=0.275, Expected=-0.217\n",
      ">Predicted=0.440, Expected=3.440\n",
      ">Predicted=-0.341, Expected=-0.390\n",
      ">Predicted=0.236, Expected=2.150\n",
      ">Predicted=-0.072, Expected=1.840\n",
      ">Predicted=0.025, Expected=-1.093\n",
      ">Predicted=0.113, Expected=-1.093\n",
      ">Predicted=0.440, Expected=-1.093\n",
      ">Predicted=0.135, Expected=-2.150\n",
      ">Predicted=0.136, Expected=0.230\n",
      ">Predicted=0.323, Expected=-4.115\n",
      ">Predicted=0.240, Expected=-4.115\n",
      ">Predicted=0.805, Expected=2.317\n",
      ">Predicted=-0.193, Expected=2.317\n",
      ">Predicted=0.259, Expected=2.317\n",
      ">Predicted=-0.118, Expected=-6.040\n",
      ">Predicted=0.883, Expected=-0.510\n",
      ">Predicted=0.398, Expected=-0.590\n",
      ">Predicted=0.014, Expected=-6.480\n",
      ">Predicted=0.521, Expected=1.060\n",
      ">Predicted=0.153, Expected=1.060\n",
      ">Predicted=0.039, Expected=1.060\n",
      ">Predicted=0.065, Expected=8.730\n",
      ">Predicted=0.002, Expected=0.050\n",
      ">Predicted=-0.016, Expected=-1.870\n",
      ">Predicted=0.534, Expected=9.440\n",
      ">Predicted=-0.700, Expected=-1.047\n",
      ">Predicted=0.030, Expected=-1.047\n",
      ">Predicted=-0.050, Expected=-1.047\n",
      ">Predicted=0.366, Expected=-11.060\n",
      ">Predicted=0.697, Expected=6.310\n",
      ">Predicted=-0.454, Expected=-9.750\n",
      ">Predicted=0.843, Expected=-1.100\n",
      ">Predicted=0.344, Expected=-1.297\n",
      ">Predicted=0.512, Expected=-1.297\n",
      ">Predicted=0.238, Expected=-1.297\n",
      ">Predicted=1.032, Expected=7.380\n",
      ">Predicted=-0.822, Expected=5.910\n",
      ">Predicted=0.401, Expected=1.490\n",
      ">Predicted=0.431, Expected=1.940\n",
      ">Predicted=-0.280, Expected=1.940\n",
      ">Predicted=1.233, Expected=1.940\n",
      ">Predicted=-2.079, Expected=1.940\n",
      ">Predicted=1.496, Expected=-1.200\n",
      ">Predicted=-1.590, Expected=0.700\n",
      ">Predicted=0.705, Expected=-2.630\n",
      ">Predicted=-0.128, Expected=-3.000\n",
      ">Predicted=-0.163, Expected=-0.523\n",
      ">Predicted=0.820, Expected=-0.523\n",
      ">Predicted=-1.049, Expected=-0.523\n",
      ">Predicted=1.304, Expected=-5.740\n",
      ">Predicted=-0.063, Expected=-12.630\n",
      ">Predicted=1.617, Expected=-2.500\n",
      ">Predicted=0.233, Expected=0.160\n",
      ">Predicted=-0.562, Expected=0.077\n",
      ">Predicted=1.041, Expected=0.077\n",
      ">Predicted=-0.223, Expected=0.077\n",
      ">Predicted=1.472, Expected=0.710\n",
      ">Predicted=0.208, Expected=3.290\n",
      ">Predicted=0.606, Expected=-13.470\n",
      ">Predicted=1.459, Expected=5.400\n",
      ">Predicted=-0.922, Expected=-1.888\n",
      ">Predicted=0.615, Expected=-1.888\n",
      ">Predicted=-0.203, Expected=-1.888\n",
      ">Predicted=0.762, Expected=-1.888\n",
      ">Predicted=0.291, Expected=0.680\n",
      ">Predicted=0.079, Expected=-1.730\n",
      ">Predicted=0.643, Expected=-5.570\n",
      ">Predicted=0.249, Expected=0.113\n",
      ">Predicted=1.017, Expected=0.113\n",
      ">Predicted=-1.231, Expected=0.113\n",
      ">Predicted=1.564, Expected=-7.880\n",
      ">Predicted=-0.211, Expected=8.220\n",
      ">Predicted=-0.035, Expected=3.130\n",
      ">Predicted=-0.008, Expected=8.420\n",
      ">Predicted=-1.112, Expected=0.907\n",
      ">Predicted=1.688, Expected=0.907\n",
      ">Predicted=-0.650, Expected=0.907\n",
      ">Predicted=0.900, Expected=-2.220\n",
      ">Predicted=-0.427, Expected=4.700\n",
      ">Predicted=-0.968, Expected=-12.210\n",
      ">Predicted=1.888, Expected=4.690\n",
      ">Predicted=-2.119, Expected=-1.663\n",
      ">Predicted=1.827, Expected=-1.663\n",
      ">Predicted=-1.185, Expected=-1.663\n",
      ">Predicted=1.297, Expected=3.610\n",
      ">Predicted=-0.266, Expected=6.650\n",
      ">Predicted=-0.892, Expected=-8.830\n",
      ">Predicted=2.660, Expected=-7.340\n",
      ">Predicted=-0.681, Expected=-0.013\n",
      ">Predicted=1.719, Expected=-0.013\n",
      ">Predicted=-1.867, Expected=-0.013\n",
      ">Predicted=0.633, Expected=5.470\n",
      ">Predicted=-0.245, Expected=-0.970\n",
      ">Predicted=0.379, Expected=-8.770\n",
      ">Predicted=2.285, Expected=-2.800\n",
      ">Predicted=-1.028, Expected=-0.052\n",
      ">Predicted=1.349, Expected=-0.052\n",
      ">Predicted=-1.312, Expected=-0.052\n",
      ">Predicted=0.762, Expected=-0.052\n",
      ">Predicted=0.748, Expected=-7.450\n",
      ">Predicted=0.056, Expected=14.320\n",
      ">Predicted=-1.154, Expected=2.720\n",
      ">Predicted=-1.184, Expected=0.493\n",
      ">Predicted=1.277, Expected=0.493\n",
      ">Predicted=-0.443, Expected=0.493\n",
      ">Predicted=0.569, Expected=-3.840\n",
      ">Predicted=0.198, Expected=5.240\n",
      ">Predicted=-1.392, Expected=-4.270\n",
      ">Predicted=1.051, Expected=-6.060\n",
      ">Predicted=0.039, Expected=-3.650\n",
      ">Predicted=0.666, Expected=-3.650\n",
      ">Predicted=0.555, Expected=-3.650\n",
      ">Predicted=-0.593, Expected=-3.060\n",
      ">Predicted=1.647, Expected=12.650\n",
      ">Predicted=-2.063, Expected=-2.910\n",
      ">Predicted=1.965, Expected=-5.520\n",
      ">Predicted=0.757, Expected=-1.210\n"
     ]
    },
    {
     "name": "stdout",
     "output_type": "stream",
     "text": [
      ">Predicted=0.654, Expected=-1.210\n",
      ">Predicted=0.528, Expected=-1.210\n",
      ">Predicted=-0.855, Expected=10.710\n",
      ">Predicted=0.332, Expected=7.240\n",
      ">Predicted=-1.644, Expected=0.830\n",
      ">Predicted=1.032, Expected=5.210\n",
      ">Predicted=-0.549, Expected=-0.423\n",
      ">Predicted=-0.055, Expected=-0.423\n",
      ">Predicted=0.177, Expected=-0.423\n",
      ">Predicted=-0.582, Expected=4.900\n",
      ">Predicted=-0.309, Expected=-4.570\n",
      ">Predicted=-0.308, Expected=4.610\n",
      ">Predicted=0.102, Expected=-0.420\n",
      ">Predicted=-0.101, Expected=2.340\n",
      ">Predicted=-0.181, Expected=2.340\n",
      ">Predicted=0.149, Expected=2.340\n",
      ">Predicted=-0.251, Expected=4.710\n",
      ">Predicted=-0.466, Expected=-1.550\n",
      ">Predicted=0.626, Expected=-5.550\n",
      ">Predicted=0.140, Expected=1.110\n",
      ">Predicted=0.249, Expected=1.850\n",
      ">Predicted=-0.885, Expected=1.850\n",
      ">Predicted=0.506, Expected=1.850\n",
      ">Predicted=-0.355, Expected=-4.090\n",
      ">Predicted=0.720, Expected=-11.380\n",
      ">Predicted=0.833, Expected=1.870\n",
      ">Predicted=-0.121, Expected=-4.400\n",
      ">Predicted=0.429, Expected=-3.903\n",
      ">Predicted=-0.082, Expected=-3.903\n",
      ">Predicted=1.038, Expected=-3.903\n",
      ">Predicted=-0.011, Expected=-3.200\n",
      ">Predicted=0.533, Expected=5.560\n",
      ">Predicted=0.392, Expected=-7.790\n",
      ">Predicted=0.354, Expected=0.173\n",
      ">Predicted=0.811, Expected=0.173\n",
      ">Predicted=-0.336, Expected=0.173\n",
      ">Predicted=0.649, Expected=0.173\n",
      ">Predicted=0.008, Expected=4.780\n",
      ">Predicted=0.053, Expected=1.060\n",
      ">Predicted=-0.000, Expected=-5.550\n",
      ">Predicted=0.816, Expected=-6.780\n",
      ">Predicted=0.717, Expected=2.230\n",
      ">Predicted=-0.369, Expected=2.230\n",
      ">Predicted=-0.453, Expected=2.230\n",
      ">Predicted=0.497, Expected=-10.500\n",
      ">Predicted=0.383, Expected=13.000\n",
      ">Predicted=-0.522, Expected=6.410\n",
      ">Predicted=-0.535, Expected=-12.110\n",
      ">Predicted=1.438, Expected=2.317\n",
      ">Predicted=0.697, Expected=2.317\n",
      ">Predicted=-1.001, Expected=2.317\n",
      ">Predicted=-0.221, Expected=-2.690\n",
      ">Predicted=0.612, Expected=8.200\n",
      ">Predicted=-0.752, Expected=-12.630\n",
      ">Predicted=1.497, Expected=-2.620\n",
      ">Predicted=0.292, Expected=-3.383\n",
      ">Predicted=1.249, Expected=-3.383\n",
      ">Predicted=-0.223, Expected=-3.383\n",
      ">Predicted=0.863, Expected=4.920\n",
      ">Predicted=0.251, Expected=-8.950\n",
      ">Predicted=-0.183, Expected=-5.200\n",
      ">Predicted=2.329, Expected=5.770\n",
      ">Predicted=-1.674, Expected=0.127\n",
      ">Predicted=0.850, Expected=0.127\n",
      ">Predicted=-0.420, Expected=0.127\n",
      ">Predicted=1.209, Expected=5.320\n",
      ">Predicted=-1.095, Expected=-12.740\n",
      ">Predicted=1.579, Expected=-0.940\n",
      ">Predicted=1.086, Expected=-0.580\n",
      ">Predicted=-0.711, Expected=2.697\n",
      ">Predicted=-0.555, Expected=2.697\n",
      ">Predicted=0.162, Expected=2.697\n",
      ">Predicted=-0.044, Expected=-1.030\n",
      ">Predicted=0.098, Expected=2.900\n",
      ">Predicted=0.384, Expected=3.380\n",
      ">Predicted=-0.273, Expected=7.340\n",
      ">Predicted=-0.607, Expected=-0.342\n",
      ">Predicted=0.011, Expected=-0.342\n",
      ">Predicted=0.667, Expected=-0.342\n",
      ">Predicted=-0.597, Expected=-0.342\n",
      ">Predicted=0.494, Expected=0.550\n",
      ">Predicted=-0.364, Expected=2.160\n",
      ">Predicted=0.009, Expected=-4.560\n",
      ">Predicted=0.192, Expected=-0.423\n",
      ">Predicted=0.121, Expected=-0.423\n",
      ">Predicted=0.371, Expected=-0.423\n",
      ">Predicted=-0.295, Expected=3.750\n",
      ">Predicted=0.169, Expected=-2.090\n",
      ">Predicted=0.202, Expected=-5.620\n",
      ">Predicted=0.455, Expected=-11.800\n",
      ">Predicted=1.571, Expected=-3.577\n",
      ">Predicted=-0.292, Expected=-3.577\n",
      ">Predicted=0.383, Expected=-3.577\n",
      ">Predicted=-0.133, Expected=2.230\n",
      ">Predicted=0.212, Expected=7.270\n",
      ">Predicted=-0.526, Expected=-6.790\n",
      ">Predicted=0.761, Expected=2.680\n",
      ">Predicted=1.122, Expected=1.523\n",
      ">Predicted=-0.578, Expected=1.523\n",
      ">Predicted=0.137, Expected=1.523\n",
      ">Predicted=0.319, Expected=1.523\n",
      ">Predicted=0.021, Expected=-0.610\n",
      ">Predicted=-0.311, Expected=5.730\n",
      ">Predicted=0.001, Expected=8.840\n",
      ">Predicted=-0.438, Expected=-0.937\n",
      ">Predicted=0.059, Expected=-0.937\n",
      ">Predicted=0.601, Expected=-0.937\n",
      ">Predicted=0.217, Expected=-8.410\n",
      ">Predicted=-0.150, Expected=3.780\n",
      ">Predicted=0.501, Expected=-3.430\n",
      ">Predicted=-0.592, Expected=2.750\n",
      ">Predicted=-0.336, Expected=0.818\n",
      ">Predicted=0.452, Expected=0.818\n",
      ">Predicted=-0.303, Expected=0.818\n",
      ">Predicted=0.740, Expected=0.818\n",
      ">Predicted=-0.169, Expected=3.360\n",
      ">Predicted=0.124, Expected=2.190\n",
      ">Predicted=-0.119, Expected=-0.740\n",
      ">Predicted=0.067, Expected=-1.050\n",
      ">Predicted=0.708, Expected=-1.050\n",
      ">Predicted=-0.672, Expected=-1.050\n",
      ">Predicted=0.920, Expected=-10.840\n",
      ">Predicted=0.115, Expected=-0.950\n",
      ">Predicted=0.402, Expected=1.360\n",
      ">Predicted=-0.582, Expected=2.640\n",
      ">Predicted=-0.414, Expected=-0.823\n",
      ">Predicted=1.384, Expected=-0.823\n",
      ">Predicted=-0.436, Expected=-0.823\n",
      ">Predicted=0.718, Expected=5.280\n",
      ">Predicted=-0.204, Expected=2.740\n",
      ">Predicted=0.169, Expected=2.570\n",
      ">Predicted=0.205, Expected=-4.480\n",
      ">Predicted=-0.158, Expected=-0.510\n",
      ">Predicted=0.834, Expected=-0.510\n",
      ">Predicted=-0.599, Expected=-0.510\n",
      ">Predicted=0.645, Expected=-6.930\n",
      ">Predicted=0.207, Expected=16.840\n",
      ">Predicted=-1.330, Expected=7.670\n",
      ">Predicted=-0.902, Expected=4.330\n",
      ">Predicted=0.204, Expected=-0.910\n",
      ">Predicted=1.100, Expected=-0.910\n",
      ">Predicted=-1.218, Expected=-0.910\n",
      ">Predicted=0.253, Expected=-3.190\n",
      ">Predicted=0.606, Expected=7.650\n",
      ">Predicted=-1.440, Expected=1.180\n",
      ">Predicted=0.232, Expected=-0.740\n",
      ">Predicted=-0.808, Expected=-0.863\n",
      ">Predicted=1.382, Expected=-0.863\n",
      ">Predicted=-1.058, Expected=-0.863\n",
      ">Predicted=0.838, Expected=1.980\n",
      ">Predicted=-0.056, Expected=6.860\n",
      ">Predicted=-0.605, Expected=-2.140\n",
      ">Predicted=0.540, Expected=4.890\n",
      ">Predicted=-0.622, Expected=0.520\n",
      ">Predicted=0.675, Expected=0.520\n",
      ">Predicted=-0.892, Expected=0.520\n",
      ">Predicted=1.013, Expected=-0.760\n",
      ">Predicted=-0.361, Expected=-1.390\n",
      ">Predicted=-0.182, Expected=-1.150\n",
      ">Predicted=0.680, Expected=-4.020\n",
      ">Predicted=-0.252, Expected=-2.800\n",
      ">Predicted=0.877, Expected=-2.800\n",
      ">Predicted=-0.505, Expected=-2.800\n",
      ">Predicted=0.842, Expected=-1.310\n",
      ">Predicted=-0.185, Expected=-0.650\n",
      ">Predicted=0.473, Expected=3.060\n",
      ">Predicted=-0.077, Expected=-10.760\n",
      ">Predicted=1.019, Expected=-0.953\n",
      ">Predicted=0.434, Expected=-0.953\n",
      ">Predicted=-0.062, Expected=-0.953\n",
      ">Predicted=0.147, Expected=-2.260\n",
      ">Predicted=0.749, Expected=-1.500\n"
     ]
    }
   ],
   "source": [
    "X=series.values\n",
    "train_size = int(len(series) * 0.8)\n",
    "train, test = X[0:train_size], X[train_size:]\n",
    "# walk-forward validation\n",
    "history = [x for x in train]\n",
    "predictions_model1 = list()\n",
    "for i in range(len(test)):\n",
    "    # predict\n",
    "    model = ARIMA(history, order=(11,1,3))\n",
    "    model_fit = model.fit()\n",
    "    yhat = model_fit.forecast()[0]\n",
    "    predictions_model1.append(yhat)\n",
    "    # observation\n",
    "    obs = test[i]\n",
    "    history.append(obs)\n",
    "    print('>Predicted=%.3f, Expected=%.3f' % (yhat, obs))\n"
   ]
  },
  {
   "cell_type": "code",
   "execution_count": 34,
   "id": "98811849",
   "metadata": {},
   "outputs": [
    {
     "name": "stdout",
     "output_type": "stream",
     "text": [
      "RMSE Model 1: 4.210\n"
     ]
    }
   ],
   "source": [
    "# report performance\n",
    "rmse = np.sqrt(mean_squared_error(test, predictions_model1))\n",
    "print('RMSE Model 1: %.3f' % rmse)"
   ]
  },
  {
   "cell_type": "markdown",
   "id": "131f99b1",
   "metadata": {},
   "source": [
    "# Grid search to find best configuration of ARIMA \n",
    "-------"
   ]
  },
  {
   "cell_type": "code",
   "execution_count": 35,
   "id": "de9832cd",
   "metadata": {},
   "outputs": [
    {
     "name": "stdout",
     "output_type": "stream",
     "text": [
      "ARIMA(1, 0, 0) AIC=9812.405\n",
      "ARIMA(1, 0, 1) AIC=9814.304\n",
      "ARIMA(1, 0, 2) AIC=9816.188\n",
      "ARIMA(1, 1, 0) AIC=10678.302\n",
      "ARIMA(1, 1, 1) AIC=9816.430\n",
      "ARIMA(1, 1, 2) AIC=9827.076\n",
      "ARIMA(2, 0, 0) AIC=9814.253\n",
      "ARIMA(2, 0, 1) AIC=9815.903\n",
      "ARIMA(2, 0, 2) AIC=9796.828\n",
      "ARIMA(2, 1, 0) AIC=10398.473\n",
      "ARIMA(2, 1, 1) AIC=9818.257\n",
      "ARIMA(2, 1, 2) AIC=9818.330\n",
      "ARIMA(3, 0, 0) AIC=9815.460\n",
      "ARIMA(3, 0, 1) AIC=9817.295\n",
      "ARIMA(3, 0, 2) AIC=9807.493\n",
      "ARIMA(3, 1, 0) AIC=10249.709\n",
      "ARIMA(3, 1, 1) AIC=9819.423\n",
      "ARIMA(3, 1, 2) AIC=9819.953\n",
      "ARIMA(4, 0, 0) AIC=9816.443\n",
      "ARIMA(4, 0, 1) AIC=9815.960\n",
      "ARIMA(4, 0, 2) AIC=9795.066\n",
      "ARIMA(4, 1, 0) AIC=10206.560\n",
      "ARIMA(4, 1, 1) AIC=9820.360\n",
      "ARIMA(4, 1, 2) AIC=9821.444\n",
      "ARIMA(5, 0, 0) AIC=9812.009\n",
      "ARIMA(5, 0, 1) AIC=9813.686\n",
      "ARIMA(5, 0, 2) AIC=9819.983\n",
      "ARIMA(5, 1, 0) AIC=10130.333\n",
      "ARIMA(5, 1, 1) AIC=9816.038\n",
      "ARIMA(5, 1, 2) AIC=9821.921\n",
      "ARIMA(6, 0, 0) AIC=9813.353\n",
      "ARIMA(6, 0, 1) AIC=9815.234\n",
      "ARIMA(6, 0, 2) AIC=9799.074\n",
      "ARIMA(6, 1, 0) AIC=10076.924\n",
      "ARIMA(6, 1, 1) AIC=9817.345\n",
      "ARIMA(6, 1, 2) AIC=9815.013\n",
      "ARIMA(7, 0, 0) AIC=9814.564\n",
      "ARIMA(7, 0, 1) AIC=9806.439\n",
      "ARIMA(7, 0, 2) AIC=9798.747\n",
      "ARIMA(7, 1, 0) AIC=10066.909\n",
      "ARIMA(7, 1, 1) AIC=9818.516\n",
      "ARIMA(7, 1, 2) AIC=9810.381\n",
      "ARIMA(8, 0, 0) AIC=9810.671\n",
      "ARIMA(8, 0, 1) AIC=9805.789\n",
      "ARIMA(8, 0, 2) AIC=9807.422\n",
      "ARIMA(8, 1, 0) AIC=10031.544\n",
      "ARIMA(8, 1, 1) AIC=9814.730\n",
      "ARIMA(8, 1, 2) AIC=9809.804\n",
      "ARIMA(9, 0, 0) AIC=9812.182\n",
      "ARIMA(9, 0, 1) AIC=9807.789\n",
      "ARIMA(9, 0, 2) AIC=9806.411\n",
      "ARIMA(9, 1, 0) AIC=10026.899\n",
      "ARIMA(9, 1, 1) AIC=9816.210\n",
      "ARIMA(9, 1, 2) AIC=9811.803\n",
      "ARIMA(10, 0, 0) AIC=9808.220\n",
      "ARIMA(10, 0, 1) AIC=9806.778\n",
      "ARIMA(10, 0, 2) AIC=9803.182\n",
      "ARIMA(10, 1, 0) AIC=9994.906\n",
      "ARIMA(10, 1, 1) AIC=9812.356\n",
      "ARIMA(10, 1, 2) AIC=9810.878\n",
      "ARIMA(11, 0, 0) AIC=9808.861\n",
      "ARIMA(11, 0, 1) AIC=9810.081\n",
      "ARIMA(11, 0, 2) AIC=9810.715\n",
      "ARIMA(11, 1, 0) AIC=9977.012\n",
      "ARIMA(11, 1, 1) AIC=9812.945\n",
      "ARIMA(11, 1, 2) AIC=9812.865\n",
      "Best ARIMA(4, 0, 2) AIC=9795.066\n"
     ]
    }
   ],
   "source": [
    "import warnings \n",
    "warnings.filterwarnings(\"ignore\")\n",
    "from statsmodels.tsa.arima.model import ARIMA\n",
    "# define range of p, d, q values to try\n",
    "p_values = range(1, 12)\n",
    "d_values = range(0, 2)\n",
    "q_values = range(0, 3)\n",
    "\n",
    "# grid search ARIMA parameters\n",
    "best_aic, best_order = float(\"inf\"), None\n",
    "for p in p_values:\n",
    "    for d in d_values:\n",
    "        for q in q_values:\n",
    "            try:\n",
    "                model = ARIMA(series, order=(p, d, q))\n",
    "                model_fit = model.fit()\n",
    "                if model_fit.aic < best_aic:\n",
    "                    best_aic, best_order = model_fit.aic, (p, d, q)\n",
    "                print('ARIMA%s AIC=%.3f' % ((p, d, q), model_fit.aic))\n",
    "            except:\n",
    "                continue\n",
    "print('Best ARIMA%s AIC=%.3f' % (best_order, best_aic))\n",
    "\n",
    "p, d, q = best_order\n"
   ]
  },
  {
   "cell_type": "markdown",
   "id": "84e28770",
   "metadata": {},
   "source": [
    "### Model 2 "
   ]
  },
  {
   "cell_type": "code",
   "execution_count": 36,
   "id": "c162f965",
   "metadata": {},
   "outputs": [
    {
     "name": "stdout",
     "output_type": "stream",
     "text": [
      ">Predicted=-0.505, Expected=1.530\n",
      ">Predicted=0.033, Expected=-1.480\n",
      ">Predicted=0.414, Expected=-0.280\n",
      ">Predicted=0.031, Expected=-1.247\n",
      ">Predicted=0.425, Expected=-1.247\n",
      ">Predicted=0.438, Expected=-1.247\n",
      ">Predicted=0.381, Expected=2.310\n",
      ">Predicted=-0.060, Expected=2.080\n",
      ">Predicted=-0.086, Expected=4.740\n",
      ">Predicted=-0.748, Expected=3.530\n",
      ">Predicted=-0.284, Expected=-0.207\n",
      ">Predicted=0.241, Expected=-0.207\n",
      ">Predicted=0.051, Expected=-0.207\n",
      ">Predicted=0.194, Expected=-2.510\n",
      ">Predicted=0.557, Expected=-0.320\n",
      ">Predicted=0.126, Expected=0.280\n",
      ">Predicted=0.123, Expected=-1.590\n",
      ">Predicted=0.440, Expected=-0.030\n",
      ">Predicted=0.111, Expected=-0.030\n",
      ">Predicted=0.150, Expected=-0.030\n",
      ">Predicted=0.235, Expected=2.300\n",
      ">Predicted=-0.163, Expected=-0.610\n",
      ">Predicted=0.176, Expected=3.010\n",
      ">Predicted=-0.203, Expected=-0.060\n",
      ">Predicted=0.168, Expected=-0.377\n",
      ">Predicted=0.235, Expected=-0.377\n",
      ">Predicted=0.242, Expected=-0.377\n",
      ">Predicted=0.166, Expected=-1.890\n",
      ">Predicted=0.323, Expected=0.510\n",
      ">Predicted=0.159, Expected=2.860\n",
      ">Predicted=-0.303, Expected=3.040\n",
      ">Predicted=-0.340, Expected=0.583\n",
      ">Predicted=0.111, Expected=0.583\n",
      ">Predicted=0.144, Expected=0.583\n",
      ">Predicted=-0.066, Expected=-1.520\n",
      ">Predicted=0.310, Expected=-2.350\n",
      ">Predicted=0.601, Expected=6.040\n",
      ">Predicted=-0.686, Expected=7.590\n",
      ">Predicted=-0.919, Expected=0.097\n",
      ">Predicted=0.326, Expected=0.097\n",
      ">Predicted=0.158, Expected=0.097\n",
      ">Predicted=0.136, Expected=-2.030\n",
      ">Predicted=0.208, Expected=-0.610\n",
      ">Predicted=0.531, Expected=-2.920\n",
      ">Predicted=0.370, Expected=0.630\n",
      ">Predicted=-0.135, Expected=1.290\n",
      ">Predicted=0.190, Expected=1.290\n",
      ">Predicted=0.004, Expected=1.290\n",
      ">Predicted=-0.018, Expected=-1.710\n",
      ">Predicted=0.396, Expected=-0.050\n",
      ">Predicted=0.500, Expected=-0.680\n",
      ">Predicted=0.235, Expected=-0.010\n",
      ">Predicted=0.197, Expected=-0.240\n",
      ">Predicted=0.180, Expected=-0.240\n",
      ">Predicted=0.169, Expected=-0.240\n",
      ">Predicted=0.211, Expected=-0.240\n",
      ">Predicted=0.686, Expected=0.030\n",
      ">Predicted=0.579, Expected=-2.960\n",
      ">Predicted=0.278, Expected=-1.540\n",
      ">Predicted=0.357, Expected=0.427\n",
      ">Predicted=0.203, Expected=0.427\n",
      ">Predicted=0.132, Expected=0.427\n",
      ">Predicted=0.155, Expected=2.800\n",
      ">Predicted=-0.179, Expected=5.030\n",
      ">Predicted=-0.462, Expected=0.400\n",
      ">Predicted=0.039, Expected=-5.350\n",
      ">Predicted=0.900, Expected=-1.857\n",
      ">Predicted=0.437, Expected=-1.857\n",
      ">Predicted=0.368, Expected=-1.857\n",
      ">Predicted=0.327, Expected=0.500\n",
      ">Predicted=0.158, Expected=3.780\n",
      ">Predicted=-0.295, Expected=0.980\n",
      ">Predicted=-0.044, Expected=-0.210\n",
      ">Predicted=0.216, Expected=-1.727\n",
      ">Predicted=0.392, Expected=-1.727\n",
      ">Predicted=0.283, Expected=-1.727\n",
      ">Predicted=0.384, Expected=-10.650\n",
      ">Predicted=1.333, Expected=0.480\n",
      ">Predicted=0.074, Expected=-2.080\n",
      ">Predicted=0.398, Expected=7.180\n",
      ">Predicted=-0.670, Expected=-1.997\n",
      ">Predicted=0.364, Expected=-1.997\n",
      ">Predicted=0.361, Expected=-1.997\n",
      ">Predicted=0.443, Expected=5.650\n",
      ">Predicted=-0.520, Expected=4.350\n",
      ">Predicted=-0.387, Expected=1.740\n",
      ">Predicted=-0.018, Expected=0.000\n",
      ">Predicted=0.168, Expected=-0.207\n",
      ">Predicted=0.139, Expected=-0.207\n",
      ">Predicted=0.194, Expected=-0.207\n",
      ">Predicted=0.196, Expected=-1.350\n",
      ">Predicted=0.258, Expected=3.430\n",
      ">Predicted=-0.205, Expected=6.440\n",
      ">Predicted=-0.509, Expected=1.460\n",
      ">Predicted=-0.072, Expected=1.027\n",
      ">Predicted=0.062, Expected=1.027\n",
      ">Predicted=0.125, Expected=1.027\n",
      ">Predicted=-0.029, Expected=0.940\n",
      ">Predicted=0.052, Expected=-0.820\n",
      ">Predicted=0.325, Expected=3.350\n",
      ">Predicted=-0.239, Expected=-1.600\n",
      ">Predicted=0.298, Expected=-0.343\n",
      ">Predicted=0.265, Expected=-0.343\n",
      ">Predicted=0.196, Expected=-0.343\n",
      ">Predicted=0.104, Expected=1.980\n",
      ">Predicted=0.019, Expected=13.060\n",
      ">Predicted=-1.108, Expected=1.180\n",
      ">Predicted=-0.077, Expected=7.270\n",
      ">Predicted=-0.472, Expected=-0.750\n",
      ">Predicted=0.456, Expected=-0.750\n",
      ">Predicted=0.054, Expected=-0.750\n",
      ">Predicted=0.290, Expected=3.760\n",
      ">Predicted=-0.317, Expected=0.870\n",
      ">Predicted=0.092, Expected=2.440\n",
      ">Predicted=-0.310, Expected=-0.380\n",
      ">Predicted=0.207, Expected=0.310\n",
      ">Predicted=0.255, Expected=0.310\n",
      ">Predicted=-0.125, Expected=0.310\n",
      ">Predicted=0.523, Expected=-1.040\n",
      ">Predicted=-0.192, Expected=-5.150\n",
      ">Predicted=0.996, Expected=1.630\n",
      ">Predicted=-0.210, Expected=4.290\n",
      ">Predicted=0.162, Expected=-0.217\n",
      ">Predicted=-0.116, Expected=-0.217\n",
      ">Predicted=0.107, Expected=-0.217\n",
      ">Predicted=0.465, Expected=3.440\n",
      ">Predicted=0.060, Expected=-0.390\n",
      ">Predicted=0.276, Expected=2.150\n",
      ">Predicted=-0.572, Expected=1.840\n",
      ">Predicted=0.375, Expected=-1.093\n",
      ">Predicted=-0.025, Expected=-1.093\n",
      ">Predicted=0.413, Expected=-1.093\n",
      ">Predicted=-0.121, Expected=-2.150\n",
      ">Predicted=0.052, Expected=0.230\n",
      ">Predicted=0.086, Expected=-4.115\n",
      ">Predicted=0.277, Expected=-4.115\n",
      ">Predicted=0.512, Expected=2.317\n",
      ">Predicted=0.229, Expected=2.317\n",
      ">Predicted=-0.588, Expected=2.317\n",
      ">Predicted=0.075, Expected=-6.040\n",
      ">Predicted=0.695, Expected=-0.510\n",
      ">Predicted=0.145, Expected=-0.590\n",
      ">Predicted=0.158, Expected=-6.480\n",
      ">Predicted=0.652, Expected=1.060\n",
      ">Predicted=0.153, Expected=1.060\n",
      ">Predicted=0.149, Expected=1.060\n",
      ">Predicted=0.145, Expected=8.730\n",
      ">Predicted=-0.436, Expected=0.050\n",
      ">Predicted=0.030, Expected=-1.870\n",
      ">Predicted=0.325, Expected=9.440\n",
      ">Predicted=-0.430, Expected=-1.047\n",
      ">Predicted=0.120, Expected=-1.047\n",
      ">Predicted=0.154, Expected=-1.047\n",
      ">Predicted=0.668, Expected=-11.060\n",
      ">Predicted=1.063, Expected=6.310\n",
      ">Predicted=-0.865, Expected=-9.750\n",
      ">Predicted=1.014, Expected=-1.100\n",
      ">Predicted=0.102, Expected=-1.297\n",
      ">Predicted=0.577, Expected=-1.297\n",
      ">Predicted=0.118, Expected=-1.297\n",
      ">Predicted=-0.083, Expected=7.380\n",
      ">Predicted=-0.550, Expected=5.910\n",
      ">Predicted=-0.058, Expected=1.490\n",
      ">Predicted=0.204, Expected=1.940\n",
      ">Predicted=-0.084, Expected=1.940\n",
      ">Predicted=-0.035, Expected=1.940\n",
      ">Predicted=0.234, Expected=1.940\n",
      ">Predicted=0.149, Expected=-1.200\n",
      ">Predicted=0.161, Expected=0.700\n",
      ">Predicted=-0.069, Expected=-2.630\n",
      ">Predicted=0.571, Expected=-3.000\n",
      ">Predicted=0.534, Expected=-0.523\n",
      ">Predicted=0.046, Expected=-0.523\n",
      ">Predicted=-0.019, Expected=-0.523\n",
      ">Predicted=0.279, Expected=-5.740\n",
      ">Predicted=0.913, Expected=-12.630\n",
      ">Predicted=0.905, Expected=-2.500\n",
      ">Predicted=-0.096, Expected=0.160\n",
      ">Predicted=-0.104, Expected=0.077\n",
      ">Predicted=0.300, Expected=0.077\n",
      ">Predicted=0.339, Expected=0.077\n",
      ">Predicted=0.017, Expected=0.710\n",
      ">Predicted=-0.120, Expected=3.290\n",
      ">Predicted=-0.105, Expected=-13.470\n",
      ">Predicted=1.518, Expected=5.400\n",
      ">Predicted=-0.559, Expected=-1.888\n",
      ">Predicted=0.106, Expected=-1.888\n",
      ">Predicted=0.107, Expected=-1.888\n",
      ">Predicted=0.578, Expected=-1.888\n",
      ">Predicted=0.451, Expected=0.680\n",
      ">Predicted=-0.287, Expected=-1.730\n",
      ">Predicted=-0.037, Expected=-5.570\n",
      ">Predicted=0.802, Expected=0.113\n",
      ">Predicted=0.304, Expected=0.113\n",
      ">Predicted=-0.136, Expected=0.113\n",
      ">Predicted=-0.287, Expected=-7.880\n",
      ">Predicted=0.983, Expected=8.220\n",
      ">Predicted=-0.351, Expected=3.130\n",
      ">Predicted=-0.177, Expected=8.420\n",
      ">Predicted=-0.929, Expected=0.907\n",
      ">Predicted=0.573, Expected=0.907\n",
      ">Predicted=0.727, Expected=0.907\n",
      ">Predicted=0.049, Expected=-2.220\n",
      ">Predicted=-0.254, Expected=4.700\n",
      ">Predicted=-0.367, Expected=-12.210\n",
      ">Predicted=1.932, Expected=4.690\n",
      ">Predicted=-0.526, Expected=-1.663\n",
      ">Predicted=-0.122, Expected=-1.663\n",
      ">Predicted=-0.132, Expected=-1.663\n",
      ">Predicted=0.774, Expected=3.610\n",
      ">Predicted=0.209, Expected=6.650\n",
      ">Predicted=-0.850, Expected=-8.830\n",
      ">Predicted=0.700, Expected=-7.340\n",
      ">Predicted=1.129, Expected=-0.013\n",
      ">Predicted=0.579, Expected=-0.013\n",
      ">Predicted=-0.579, Expected=-0.013\n",
      ">Predicted=-0.616, Expected=5.470\n",
      ">Predicted=0.211, Expected=-0.970\n",
      ">Predicted=1.174, Expected=-8.770\n",
      ">Predicted=0.615, Expected=-2.800\n",
      ">Predicted=-0.525, Expected=-0.052\n",
      ">Predicted=0.068, Expected=-0.052\n",
      ">Predicted=0.696, Expected=-0.052\n",
      ">Predicted=0.210, Expected=-0.052\n",
      ">Predicted=-0.406, Expected=-7.450\n",
      ">Predicted=0.603, Expected=14.320\n",
      ">Predicted=-0.891, Expected=2.720\n",
      ">Predicted=0.267, Expected=0.493\n",
      ">Predicted=-0.215, Expected=0.493\n",
      ">Predicted=0.109, Expected=0.493\n",
      ">Predicted=0.510, Expected=-3.840\n",
      ">Predicted=-0.297, Expected=5.240\n",
      ">Predicted=-0.378, Expected=-4.270\n",
      ">Predicted=0.457, Expected=-6.060\n",
      ">Predicted=0.943, Expected=-3.650\n",
      ">Predicted=0.423, Expected=-3.650\n",
      ">Predicted=-0.048, Expected=-3.650\n",
      ">Predicted=0.178, Expected=-3.060\n",
      ">Predicted=0.540, Expected=12.650\n",
      ">Predicted=-1.121, Expected=-2.910\n",
      ">Predicted=0.504, Expected=-5.520\n",
      ">Predicted=0.771, Expected=-1.210\n"
     ]
    },
    {
     "name": "stdout",
     "output_type": "stream",
     "text": [
      ">Predicted=0.442, Expected=-1.210\n",
      ">Predicted=-0.039, Expected=-1.210\n",
      ">Predicted=0.035, Expected=10.710\n",
      ">Predicted=-0.256, Expected=7.240\n",
      ">Predicted=-0.884, Expected=0.830\n",
      ">Predicted=-0.025, Expected=5.210\n",
      ">Predicted=0.654, Expected=-0.423\n",
      ">Predicted=-0.256, Expected=-0.423\n",
      ">Predicted=-0.249, Expected=-0.423\n",
      ">Predicted=0.986, Expected=4.900\n",
      ">Predicted=-0.690, Expected=-4.570\n",
      ">Predicted=-0.007, Expected=4.610\n",
      ">Predicted=0.532, Expected=-0.420\n",
      ">Predicted=0.219, Expected=2.340\n",
      ">Predicted=-0.911, Expected=2.340\n",
      ">Predicted=0.631, Expected=2.340\n",
      ">Predicted=0.235, Expected=4.710\n",
      ">Predicted=-1.059, Expected=-1.550\n",
      ">Predicted=0.967, Expected=-5.550\n",
      ">Predicted=0.916, Expected=1.110\n",
      ">Predicted=-0.887, Expected=1.850\n",
      ">Predicted=0.300, Expected=1.850\n",
      ">Predicted=0.490, Expected=1.850\n",
      ">Predicted=-0.570, Expected=-4.090\n",
      ">Predicted=0.583, Expected=-11.380\n",
      ">Predicted=1.548, Expected=1.870\n",
      ">Predicted=-0.870, Expected=-4.400\n",
      ">Predicted=0.279, Expected=-3.903\n",
      ">Predicted=0.937, Expected=-3.903\n",
      ">Predicted=0.899, Expected=-3.903\n",
      ">Predicted=-0.067, Expected=-3.200\n",
      ">Predicted=0.806, Expected=5.560\n",
      ">Predicted=-0.483, Expected=-7.790\n",
      ">Predicted=0.322, Expected=0.173\n",
      ">Predicted=0.391, Expected=0.173\n",
      ">Predicted=0.276, Expected=0.173\n",
      ">Predicted=-0.634, Expected=0.173\n",
      ">Predicted=0.586, Expected=4.780\n",
      ">Predicted=0.137, Expected=1.060\n",
      ">Predicted=-0.582, Expected=-5.550\n",
      ">Predicted=0.798, Expected=-6.780\n",
      ">Predicted=1.076, Expected=2.230\n",
      ">Predicted=-0.902, Expected=2.230\n",
      ">Predicted=-0.188, Expected=2.230\n",
      ">Predicted=0.067, Expected=-10.500\n",
      ">Predicted=1.126, Expected=13.000\n",
      ">Predicted=-1.428, Expected=6.410\n",
      ">Predicted=-0.545, Expected=-12.110\n",
      ">Predicted=1.198, Expected=2.317\n",
      ">Predicted=0.491, Expected=2.317\n",
      ">Predicted=-0.740, Expected=2.317\n",
      ">Predicted=-0.415, Expected=-2.690\n",
      ">Predicted=0.246, Expected=8.200\n",
      ">Predicted=-0.723, Expected=-12.630\n",
      ">Predicted=1.718, Expected=-2.620\n",
      ">Predicted=0.614, Expected=-3.383\n",
      ">Predicted=1.200, Expected=-3.383\n",
      ">Predicted=-0.008, Expected=-3.383\n",
      ">Predicted=0.885, Expected=4.920\n",
      ">Predicted=-0.714, Expected=-8.950\n",
      ">Predicted=0.853, Expected=-5.200\n",
      ">Predicted=0.879, Expected=5.770\n",
      ">Predicted=-0.620, Expected=0.127\n",
      ">Predicted=-0.594, Expected=0.127\n",
      ">Predicted=0.685, Expected=0.127\n",
      ">Predicted=0.236, Expected=5.320\n",
      ">Predicted=-0.842, Expected=-12.740\n",
      ">Predicted=2.088, Expected=-0.940\n",
      ">Predicted=0.836, Expected=-0.580\n",
      ">Predicted=-1.252, Expected=2.697\n",
      ">Predicted=0.039, Expected=2.697\n",
      ">Predicted=1.123, Expected=2.697\n",
      ">Predicted=-1.119, Expected=-1.030\n",
      ">Predicted=-0.245, Expected=2.900\n",
      ">Predicted=1.335, Expected=3.380\n",
      ">Predicted=-0.666, Expected=7.340\n",
      ">Predicted=-1.419, Expected=-0.342\n",
      ">Predicted=1.350, Expected=-0.342\n",
      ">Predicted=0.416, Expected=-0.342\n",
      ">Predicted=-1.157, Expected=-0.342\n",
      ">Predicted=0.747, Expected=0.550\n",
      ">Predicted=0.965, Expected=2.160\n",
      ">Predicted=-1.284, Expected=-4.560\n",
      ">Predicted=0.316, Expected=-0.423\n",
      ">Predicted=1.333, Expected=-0.423\n",
      ">Predicted=-0.684, Expected=-0.423\n",
      ">Predicted=-0.499, Expected=3.750\n",
      ">Predicted=1.015, Expected=-2.090\n",
      ">Predicted=0.053, Expected=-5.620\n",
      ">Predicted=-0.126, Expected=-11.800\n",
      ">Predicted=2.160, Expected=-3.577\n",
      ">Predicted=0.609, Expected=-3.577\n",
      ">Predicted=-1.018, Expected=-3.577\n",
      ">Predicted=0.841, Expected=2.230\n",
      ">Predicted=0.685, Expected=7.270\n",
      ">Predicted=-1.674, Expected=-6.790\n",
      ">Predicted=0.687, Expected=2.680\n",
      ">Predicted=1.247, Expected=1.523\n",
      ">Predicted=-1.119, Expected=1.523\n",
      ">Predicted=-0.627, Expected=1.523\n",
      ">Predicted=1.440, Expected=1.523\n",
      ">Predicted=-0.354, Expected=-0.610\n",
      ">Predicted=-0.964, Expected=5.730\n",
      ">Predicted=0.682, Expected=8.840\n",
      ">Predicted=-0.229, Expected=-0.937\n",
      ">Predicted=-1.047, Expected=-0.937\n",
      ">Predicted=0.846, Expected=-0.937\n",
      ">Predicted=0.953, Expected=-8.410\n",
      ">Predicted=-0.531, Expected=3.780\n",
      ">Predicted=-0.232, Expected=-3.430\n",
      ">Predicted=1.480, Expected=2.750\n",
      ">Predicted=-0.963, Expected=0.818\n",
      ">Predicted=-0.356, Expected=0.818\n",
      ">Predicted=1.054, Expected=0.818\n",
      ">Predicted=-0.109, Expected=0.818\n",
      ">Predicted=-0.909, Expected=3.360\n",
      ">Predicted=0.702, Expected=2.190\n",
      ">Predicted=0.148, Expected=-0.740\n",
      ">Predicted=-0.865, Expected=-1.050\n",
      ">Predicted=0.596, Expected=-1.050\n",
      ">Predicted=0.889, Expected=-1.050\n",
      ">Predicted=-0.700, Expected=-10.840\n",
      ">Predicted=0.765, Expected=-0.950\n",
      ">Predicted=0.992, Expected=1.360\n",
      ">Predicted=-0.712, Expected=2.640\n",
      ">Predicted=-0.336, Expected=-0.823\n",
      ">Predicted=1.235, Expected=-0.823\n",
      ">Predicted=0.069, Expected=-0.823\n",
      ">Predicted=-0.811, Expected=5.280\n",
      ">Predicted=0.421, Expected=2.740\n",
      ">Predicted=0.260, Expected=2.570\n",
      ">Predicted=-0.915, Expected=-4.480\n",
      ">Predicted=0.762, Expected=-0.510\n",
      ">Predicted=0.895, Expected=-0.510\n",
      ">Predicted=-0.704, Expected=-0.510\n",
      ">Predicted=-0.042, Expected=-6.930\n",
      ">Predicted=1.508, Expected=16.840\n",
      ">Predicted=-1.398, Expected=7.670\n",
      ">Predicted=-0.645, Expected=4.330\n",
      ">Predicted=0.134, Expected=-0.910\n",
      ">Predicted=1.262, Expected=-0.910\n",
      ">Predicted=-0.400, Expected=-0.910\n",
      ">Predicted=0.391, Expected=-3.190\n",
      ">Predicted=0.430, Expected=7.650\n",
      ">Predicted=-1.586, Expected=1.180\n",
      ">Predicted=0.225, Expected=-0.740\n",
      ">Predicted=1.454, Expected=-0.863\n",
      ">Predicted=-0.439, Expected=-0.863\n",
      ">Predicted=-0.408, Expected=-0.863\n",
      ">Predicted=1.192, Expected=1.980\n",
      ">Predicted=-0.374, Expected=6.860\n",
      ">Predicted=-1.328, Expected=-2.140\n",
      ">Predicted=1.267, Expected=4.890\n",
      ">Predicted=0.268, Expected=0.520\n",
      ">Predicted=-1.128, Expected=0.520\n",
      ">Predicted=0.636, Expected=0.520\n",
      ">Predicted=0.764, Expected=-0.760\n",
      ">Predicted=-1.008, Expected=-1.390\n",
      ">Predicted=0.015, Expected=-1.150\n",
      ">Predicted=1.402, Expected=-4.020\n",
      ">Predicted=-0.281, Expected=-2.800\n",
      ">Predicted=-0.553, Expected=-2.800\n",
      ">Predicted=1.458, Expected=-2.800\n",
      ">Predicted=0.067, Expected=-1.310\n",
      ">Predicted=-0.718, Expected=-0.650\n",
      ">Predicted=1.042, Expected=3.060\n",
      ">Predicted=0.422, Expected=-10.760\n",
      ">Predicted=-0.316, Expected=-0.953\n",
      ">Predicted=0.396, Expected=-0.953\n",
      ">Predicted=0.737, Expected=-0.953\n",
      ">Predicted=-0.693, Expected=-2.260\n",
      ">Predicted=0.021, Expected=-1.500\n"
     ]
    }
   ],
   "source": [
    "X=series.values\n",
    "train_size = int(len(series) * 0.8)\n",
    "train, test = X[0:train_size], X[train_size:]\n",
    "# walk-forward validation\n",
    "history = [x for x in train]\n",
    "predictions_model2 = list()\n",
    "for i in range(len(test)):\n",
    "    # predict\n",
    "    model = ARIMA(history, order=(4,0,2))\n",
    "    model_fit = model.fit()\n",
    "    yhat = model_fit.forecast()[0]\n",
    "    predictions_model2.append(yhat)\n",
    "    # observation\n",
    "    obs = test[i]\n",
    "    history.append(obs)\n",
    "    print('>Predicted=%.3f, Expected=%.3f' % (yhat, obs))"
   ]
  },
  {
   "cell_type": "code",
   "execution_count": 37,
   "id": "50f9245b",
   "metadata": {},
   "outputs": [
    {
     "name": "stdout",
     "output_type": "stream",
     "text": [
      "RMSE Model 2 : 4.125\n"
     ]
    }
   ],
   "source": [
    "rmse_model2 = np.sqrt(mean_squared_error(test, predictions_model2))\n",
    "print('RMSE Model 2 : %.3f' % rmse_model2)"
   ]
  },
  {
   "cell_type": "markdown",
   "id": "f389d6fc",
   "metadata": {},
   "source": [
    "### Erreur d'analyse du modèle 2"
   ]
  },
  {
   "cell_type": "code",
   "execution_count": 38,
   "id": "a2f26d8f",
   "metadata": {},
   "outputs": [
    {
     "data": {
      "image/png": "[encoded data removed]",
      "text/plain": [
       "<Figure size 1000x600 with 1 Axes>"
      ]
     },
     "metadata": {},
     "output_type": "display_data"
    }
   ],
   "source": [
    "\n",
    "residuals_model2 = test - predictions_model2\n",
    "plt.figure(figsize=(10, 6))\n",
    "plt.plot(predictions_model2)\n",
    "plt.title('Residuals of Model 2')\n",
    "\n",
    "plt.ylabel('Residuals')\n",
    "plt.show()"
   ]
  },
  {
   "cell_type": "markdown",
   "id": "66ca1429",
   "metadata": {},
   "source": [
    "### Model 3"
   ]
  },
  {
   "cell_type": "code",
   "execution_count": 39,
   "id": "1a48294a",
   "metadata": {},
   "outputs": [
    {
     "name": "stdout",
     "output_type": "stream",
     "text": [
      "Model 3 RMSE: 4.121\n",
      "Comparison of RMSEs: Model 2 RMSE = 4.125, Model 3 RMSE = 4.121\n"
     ]
    }
   ],
   "source": [
    "# Moyenne des erreurs pour le modèle 3\n",
    "bias = np.mean(residuals_model2)\n",
    "\n",
    "# Modèle 3 : Ajout de la moyenne des erreurs comme biais\n",
    "predictions_model3 = predictions_model2 + bias\n",
    "rmse_model3 = np.sqrt(mean_squared_error(test, predictions_model3))\n",
    "print(f'Model 3 RMSE: {rmse_model3:.3f}')\n",
    "\n",
    "# Comparaison des RMSE des modèles 2 et 3\n",
    "print(f'Comparison of RMSEs: Model 2 RMSE = {rmse_model2:.3f}, Model 3 RMSE = {rmse_model3:.3f}')"
   ]
  },
  {
   "cell_type": "code",
   "execution_count": null,
   "id": "01b11edd",
   "metadata": {},
   "outputs": [],
   "source": []
  },
  {
   "cell_type": "code",
   "execution_count": 40,
   "id": "159aba04",
   "metadata": {},
   "outputs": [
    {
     "name": "stdout",
     "output_type": "stream",
     "text": [
      "Model 1 RMSE: 4.422\n",
      "Model 2 RMSE: 4.281\n",
      "Model 3 RMSE: 4.279\n",
      "Le modèle 3 a la meilleure performance.\n"
     ]
    }
   ],
   "source": [
    "print(f'Model 1 RMSE: 4.422')\n",
    "print(f'Model 2 RMSE: 4.281')\n",
    "print(f'Model 3 RMSE: 4.279')\n",
    "\n",
    "# Comparaison des RMSE des modèles\n",
    "if rmse_model3 < rmse_model2 and rmse_model3 < 4.422:\n",
    "    print(\"Le modèle 3 a la meilleure performance.\")\n",
    "elif rmse_model2 < rmse_model3 and rmse_model2 < 4.422:\n",
    "    print(\"Le modèle 2 a la meilleure performance.\")\n",
    "else:\n",
    "    print(\"Le modèle 1 (manuel) pourrait être compétitif, mais le choix dépend des objectifs spécifiques et de la méthodologie.\")\n"
   ]
  },
  {
   "cell_type": "code",
   "execution_count": null,
   "id": "c7e16096",
   "metadata": {},
   "outputs": [],
   "source": []
  },
  {
   "cell_type": "code",
   "execution_count": null,
   "id": "a383b841",
   "metadata": {},
   "outputs": [],
   "source": []
  },
  {
   "cell_type": "code",
   "execution_count": null,
   "id": "a6032358",
   "metadata": {},
   "outputs": [],
   "source": []
  },
  {
   "cell_type": "code",
   "execution_count": null,
   "id": "b47e862f",
   "metadata": {},
   "outputs": [],
   "source": []
  },
  {
   "cell_type": "code",
   "execution_count": null,
   "id": "a08ddef4",
   "metadata": {},
   "outputs": [],
   "source": []
  },
  {
   "cell_type": "code",
   "execution_count": null,
   "id": "f3f555b1",
   "metadata": {},
   "outputs": [],
   "source": []
  },
  {
   "cell_type": "code",
   "execution_count": null,
   "id": "2235b318",
   "metadata": {},
   "outputs": [],
   "source": []
  },
  {
   "cell_type": "code",
   "execution_count": null,
   "id": "7b7c0444",
   "metadata": {},
   "outputs": [],
   "source": []
  },
  {
   "cell_type": "code",
   "execution_count": null,
   "id": "7215c324",
   "metadata": {},
   "outputs": [],
   "source": []
  },
  {
   "cell_type": "code",
   "execution_count": null,
   "id": "ce50399f",
   "metadata": {},
   "outputs": [],
   "source": []
  },
  {
   "cell_type": "code",
   "execution_count": null,
   "id": "f67c7699",
   "metadata": {},
   "outputs": [],
   "source": []
  },
  {
   "cell_type": "code",
   "execution_count": null,
   "id": "346c5d0f",
   "metadata": {},
   "outputs": [],
   "source": []
  },
  {
   "cell_type": "code",
   "execution_count": null,
   "id": "50821228",
   "metadata": {},
   "outputs": [],
   "source": []
  },
  {
   "cell_type": "code",
   "execution_count": null,
   "id": "3aa25c6e",
   "metadata": {},
   "outputs": [],
   "source": []
  },
  {
   "cell_type": "code",
   "execution_count": null,
   "id": "3d4e2ace",
   "metadata": {},
   "outputs": [],
   "source": []
  },
  {
   "cell_type": "code",
   "execution_count": null,
   "id": "a9d56059",
   "metadata": {},
   "outputs": [],
   "source": []
  },
  {
   "cell_type": "code",
   "execution_count": null,
   "id": "05060ad3",
   "metadata": {},
   "outputs": [],
   "source": []
  },
  {
   "cell_type": "code",
   "execution_count": null,
   "id": "8a65248b",
   "metadata": {},
   "outputs": [],
   "source": [
    "\n"
   ]
  },
  {
   "cell_type": "code",
   "execution_count": null,
   "id": "015c83e7",
   "metadata": {},
   "outputs": [],
   "source": []
  },
  {
   "cell_type": "code",
   "execution_count": null,
   "id": "880811e6",
   "metadata": {},
   "outputs": [],
   "source": []
  },
  {
   "cell_type": "code",
   "execution_count": null,
   "id": "eff677dc",
   "metadata": {},
   "outputs": [],
   "source": []
  },
  {
   "cell_type": "code",
   "execution_count": null,
   "id": "e14014e6",
   "metadata": {},
   "outputs": [],
   "source": []
  }
 ],
 "metadata": {
  "kernelspec": {
   "display_name": "Python 3 (ipykernel)",
   "language": "python",
   "name": "python3"
  },
  "language_info": {
   "codemirror_mode": {
    "name": "ipython",
    "version": 3
   },
   "file_extension": ".py",
   "mimetype": "text/x-python",
   "name": "python",
   "nbconvert_exporter": "python",
   "pygments_lexer": "ipython3",
   "version": "3.10.9"
  },
  "varInspector": {
   "cols": {
    "lenName": 16,
    "lenType": 16,
    "lenVar": 40
   },
   "kernels_config": {
    "python": {
     "delete_cmd_postfix": "",
     "delete_cmd_prefix": "del ",
     "library": "var_list.py",
     "varRefreshCmd": "print(var_dic_list())"
    },
    "r": {
     "delete_cmd_postfix": ") ",
     "delete_cmd_prefix": "rm(",
     "library": "var_list.r",
     "varRefreshCmd": "cat(var_dic_list()) "
    }
   },
   "types_to_exclude": [
    "module",
    "function",
    "builtin_function_or_method",
    "instance",
    "_Feature"
   ],
   "window_display": false
  }
 },
 "nbformat": 4,
 "nbformat_minor": 5
}
